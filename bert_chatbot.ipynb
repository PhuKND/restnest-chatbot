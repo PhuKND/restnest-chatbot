{
  "cells": [
    {
      "cell_type": "markdown",
      "metadata": {
        "id": "krb3BON-XjKm"
      },
      "source": [
        "referencing:\n",
        "\n",
        "https://towardsdatascience.com/multi-label-text-classification-using-bert-and-tensorflow-d2e88d8f488d\n"
      ]
    },
    {
      "cell_type": "code",
      "source": [
        "import os\n",
        "os.kill(os.getpid(), 9)\n"
      ],
      "metadata": {
        "id": "tAbeLoWdOvzZ"
      },
      "execution_count": null,
      "outputs": []
    },
    {
      "cell_type": "code",
      "source": [
        "from google.colab import drive\n",
        "drive.mount('/content/drive')"
      ],
      "metadata": {
        "colab": {
          "base_uri": "https://localhost:8080/"
        },
        "id": "5zSdIWRYMNv9",
        "outputId": "fba8c330-3804-467f-8988-690fd0bc3f10"
      },
      "execution_count": 12,
      "outputs": [
        {
          "output_type": "stream",
          "name": "stdout",
          "text": [
            "Mounted at /content/drive\n"
          ]
        }
      ]
    },
    {
      "cell_type": "code",
      "source": [
        "%env AWS_ACCESS_KEY_ID=\"\"\n",
        "%env AWS_SECRET_ACCESS_KEY_ID=\"\"\n",
        "%env AWS_REGION_NAME=\"\"\n",
        "%env AWS_BUCKET_NAME=\"\"\n",
        "\n",
        "%env MODEL_VERSION=1"
      ],
      "metadata": {
        "colab": {
          "base_uri": "https://localhost:8080/"
        },
        "id": "ghBJ0KCx8jv-",
        "outputId": "43e95520-7a4e-4e84-95ba-9a9f19004e6d"
      },
      "execution_count": 3,
      "outputs": [
        {
          "output_type": "stream",
          "name": "stdout",
          "text": [
            "env: AWS_ACCESS_KEY_ID=\"\"\n",
            "env: AWS_SECRET_ACCESS_KEY_ID=\"\"\n",
            "env: AWS_REGION_NAME=\"\"\n",
            "env: AWS_BUCKET_NAME=\"\"\n",
            "env: MODEL_VERSION=1\n"
          ]
        }
      ]
    },
    {
      "cell_type": "code",
      "source": [
        "# cmd to check gpu process\n",
        "!nvidia-smi"
      ],
      "metadata": {
        "colab": {
          "base_uri": "https://localhost:8080/"
        },
        "id": "eMRkvNSsULmB",
        "outputId": "4460a085-a36f-4a0d-f08c-93d0ba4a2b82"
      },
      "execution_count": 4,
      "outputs": [
        {
          "output_type": "stream",
          "name": "stdout",
          "text": [
            "Wed May 14 05:22:39 2025       \n",
            "+-----------------------------------------------------------------------------------------+\n",
            "| NVIDIA-SMI 550.54.15              Driver Version: 550.54.15      CUDA Version: 12.4     |\n",
            "|-----------------------------------------+------------------------+----------------------+\n",
            "| GPU  Name                 Persistence-M | Bus-Id          Disp.A | Volatile Uncorr. ECC |\n",
            "| Fan  Temp   Perf          Pwr:Usage/Cap |           Memory-Usage | GPU-Util  Compute M. |\n",
            "|                                         |                        |               MIG M. |\n",
            "|=========================================+========================+======================|\n",
            "|   0  Tesla T4                       Off |   00000000:00:04.0 Off |                    0 |\n",
            "| N/A   41C    P8              9W /   70W |       0MiB /  15360MiB |      0%      Default |\n",
            "|                                         |                        |                  N/A |\n",
            "+-----------------------------------------+------------------------+----------------------+\n",
            "                                                                                         \n",
            "+-----------------------------------------------------------------------------------------+\n",
            "| Processes:                                                                              |\n",
            "|  GPU   GI   CI        PID   Type   Process name                              GPU Memory |\n",
            "|        ID   ID                                                               Usage      |\n",
            "|=========================================================================================|\n",
            "|  No running processes found                                                             |\n",
            "+-----------------------------------------------------------------------------------------+\n"
          ]
        }
      ]
    },
    {
      "cell_type": "code",
      "execution_count": 5,
      "metadata": {
        "id": "HVvkd34hJBuL",
        "colab": {
          "base_uri": "https://localhost:8080/"
        },
        "outputId": "d9ac0f4f-15ce-4111-cf46-a41ca69db1f9"
      },
      "outputs": [
        {
          "output_type": "stream",
          "name": "stdout",
          "text": [
            "Requirement already satisfied: tensorflow-text==2.12.0 in /usr/local/lib/python3.11/dist-packages (2.12.0)\n",
            "Requirement already satisfied: tensorflow-hub>=0.8.0 in /usr/local/lib/python3.11/dist-packages (from tensorflow-text==2.12.0) (0.16.1)\n",
            "Requirement already satisfied: tensorflow<2.13,>=2.12.0 in /usr/local/lib/python3.11/dist-packages (from tensorflow-text==2.12.0) (2.12.1)\n",
            "Requirement already satisfied: absl-py>=1.0.0 in /usr/local/lib/python3.11/dist-packages (from tensorflow<2.13,>=2.12.0->tensorflow-text==2.12.0) (1.4.0)\n",
            "Requirement already satisfied: astunparse>=1.6.0 in /usr/local/lib/python3.11/dist-packages (from tensorflow<2.13,>=2.12.0->tensorflow-text==2.12.0) (1.6.3)\n",
            "Requirement already satisfied: flatbuffers>=2.0 in /usr/local/lib/python3.11/dist-packages (from tensorflow<2.13,>=2.12.0->tensorflow-text==2.12.0) (25.2.10)\n",
            "Requirement already satisfied: gast<=0.4.0,>=0.2.1 in /usr/local/lib/python3.11/dist-packages (from tensorflow<2.13,>=2.12.0->tensorflow-text==2.12.0) (0.4.0)\n",
            "Requirement already satisfied: google-pasta>=0.1.1 in /usr/local/lib/python3.11/dist-packages (from tensorflow<2.13,>=2.12.0->tensorflow-text==2.12.0) (0.2.0)\n",
            "Requirement already satisfied: grpcio<2.0,>=1.24.3 in /usr/local/lib/python3.11/dist-packages (from tensorflow<2.13,>=2.12.0->tensorflow-text==2.12.0) (1.71.0)\n",
            "Requirement already satisfied: h5py>=2.9.0 in /usr/local/lib/python3.11/dist-packages (from tensorflow<2.13,>=2.12.0->tensorflow-text==2.12.0) (3.13.0)\n",
            "Requirement already satisfied: jax>=0.3.15 in /usr/local/lib/python3.11/dist-packages (from tensorflow<2.13,>=2.12.0->tensorflow-text==2.12.0) (0.4.38)\n",
            "Requirement already satisfied: keras<2.13,>=2.12.0 in /usr/local/lib/python3.11/dist-packages (from tensorflow<2.13,>=2.12.0->tensorflow-text==2.12.0) (2.12.0)\n",
            "Requirement already satisfied: libclang>=13.0.0 in /usr/local/lib/python3.11/dist-packages (from tensorflow<2.13,>=2.12.0->tensorflow-text==2.12.0) (18.1.1)\n",
            "Requirement already satisfied: numpy<=1.24.3,>=1.22 in /usr/local/lib/python3.11/dist-packages (from tensorflow<2.13,>=2.12.0->tensorflow-text==2.12.0) (1.24.3)\n",
            "Requirement already satisfied: opt-einsum>=2.3.2 in /usr/local/lib/python3.11/dist-packages (from tensorflow<2.13,>=2.12.0->tensorflow-text==2.12.0) (3.4.0)\n",
            "Requirement already satisfied: packaging in /usr/local/lib/python3.11/dist-packages (from tensorflow<2.13,>=2.12.0->tensorflow-text==2.12.0) (24.2)\n",
            "Requirement already satisfied: protobuf!=4.21.0,!=4.21.1,!=4.21.2,!=4.21.3,!=4.21.4,!=4.21.5,<5.0.0dev,>=3.20.3 in /usr/local/lib/python3.11/dist-packages (from tensorflow<2.13,>=2.12.0->tensorflow-text==2.12.0) (4.25.7)\n",
            "Requirement already satisfied: setuptools in /usr/local/lib/python3.11/dist-packages (from tensorflow<2.13,>=2.12.0->tensorflow-text==2.12.0) (75.2.0)\n",
            "Requirement already satisfied: six>=1.12.0 in /usr/local/lib/python3.11/dist-packages (from tensorflow<2.13,>=2.12.0->tensorflow-text==2.12.0) (1.17.0)\n",
            "Requirement already satisfied: tensorboard<2.13,>=2.12 in /usr/local/lib/python3.11/dist-packages (from tensorflow<2.13,>=2.12.0->tensorflow-text==2.12.0) (2.12.3)\n",
            "Requirement already satisfied: tensorflow-estimator<2.13,>=2.12.0 in /usr/local/lib/python3.11/dist-packages (from tensorflow<2.13,>=2.12.0->tensorflow-text==2.12.0) (2.12.0)\n",
            "Requirement already satisfied: termcolor>=1.1.0 in /usr/local/lib/python3.11/dist-packages (from tensorflow<2.13,>=2.12.0->tensorflow-text==2.12.0) (3.1.0)\n",
            "Requirement already satisfied: typing-extensions<4.6.0,>=3.6.6 in /usr/local/lib/python3.11/dist-packages (from tensorflow<2.13,>=2.12.0->tensorflow-text==2.12.0) (4.5.0)\n",
            "Requirement already satisfied: wrapt<1.15,>=1.11.0 in /usr/local/lib/python3.11/dist-packages (from tensorflow<2.13,>=2.12.0->tensorflow-text==2.12.0) (1.14.1)\n",
            "Requirement already satisfied: tensorflow-io-gcs-filesystem>=0.23.1 in /usr/local/lib/python3.11/dist-packages (from tensorflow<2.13,>=2.12.0->tensorflow-text==2.12.0) (0.37.1)\n",
            "Requirement already satisfied: tf-keras>=2.14.1 in /usr/local/lib/python3.11/dist-packages (from tensorflow-hub>=0.8.0->tensorflow-text==2.12.0) (2.15.0)\n",
            "Requirement already satisfied: wheel<1.0,>=0.23.0 in /usr/local/lib/python3.11/dist-packages (from astunparse>=1.6.0->tensorflow<2.13,>=2.12.0->tensorflow-text==2.12.0) (0.45.1)\n",
            "Requirement already satisfied: jaxlib<=0.4.38,>=0.4.38 in /usr/local/lib/python3.11/dist-packages (from jax>=0.3.15->tensorflow<2.13,>=2.12.0->tensorflow-text==2.12.0) (0.4.38)\n",
            "Requirement already satisfied: ml_dtypes>=0.4.0 in /usr/local/lib/python3.11/dist-packages (from jax>=0.3.15->tensorflow<2.13,>=2.12.0->tensorflow-text==2.12.0) (0.4.1)\n",
            "Requirement already satisfied: scipy>=1.10 in /usr/local/lib/python3.11/dist-packages (from jax>=0.3.15->tensorflow<2.13,>=2.12.0->tensorflow-text==2.12.0) (1.15.3)\n",
            "Requirement already satisfied: google-auth<3,>=1.6.3 in /usr/local/lib/python3.11/dist-packages (from tensorboard<2.13,>=2.12->tensorflow<2.13,>=2.12.0->tensorflow-text==2.12.0) (2.38.0)\n",
            "Requirement already satisfied: google-auth-oauthlib<1.1,>=0.5 in /usr/local/lib/python3.11/dist-packages (from tensorboard<2.13,>=2.12->tensorflow<2.13,>=2.12.0->tensorflow-text==2.12.0) (1.0.0)\n",
            "Requirement already satisfied: markdown>=2.6.8 in /usr/local/lib/python3.11/dist-packages (from tensorboard<2.13,>=2.12->tensorflow<2.13,>=2.12.0->tensorflow-text==2.12.0) (3.8)\n",
            "Requirement already satisfied: requests<3,>=2.21.0 in /usr/local/lib/python3.11/dist-packages (from tensorboard<2.13,>=2.12->tensorflow<2.13,>=2.12.0->tensorflow-text==2.12.0) (2.32.3)\n",
            "Requirement already satisfied: tensorboard-data-server<0.8.0,>=0.7.0 in /usr/local/lib/python3.11/dist-packages (from tensorboard<2.13,>=2.12->tensorflow<2.13,>=2.12.0->tensorflow-text==2.12.0) (0.7.2)\n",
            "Requirement already satisfied: werkzeug>=1.0.1 in /usr/local/lib/python3.11/dist-packages (from tensorboard<2.13,>=2.12->tensorflow<2.13,>=2.12.0->tensorflow-text==2.12.0) (3.1.3)\n",
            "Requirement already satisfied: cachetools<6.0,>=2.0.0 in /usr/local/lib/python3.11/dist-packages (from google-auth<3,>=1.6.3->tensorboard<2.13,>=2.12->tensorflow<2.13,>=2.12.0->tensorflow-text==2.12.0) (5.5.2)\n",
            "Requirement already satisfied: pyasn1-modules>=0.2.1 in /usr/local/lib/python3.11/dist-packages (from google-auth<3,>=1.6.3->tensorboard<2.13,>=2.12->tensorflow<2.13,>=2.12.0->tensorflow-text==2.12.0) (0.4.2)\n",
            "Requirement already satisfied: rsa<5,>=3.1.4 in /usr/local/lib/python3.11/dist-packages (from google-auth<3,>=1.6.3->tensorboard<2.13,>=2.12->tensorflow<2.13,>=2.12.0->tensorflow-text==2.12.0) (4.9.1)\n",
            "Requirement already satisfied: requests-oauthlib>=0.7.0 in /usr/local/lib/python3.11/dist-packages (from google-auth-oauthlib<1.1,>=0.5->tensorboard<2.13,>=2.12->tensorflow<2.13,>=2.12.0->tensorflow-text==2.12.0) (2.0.0)\n",
            "Requirement already satisfied: charset-normalizer<4,>=2 in /usr/local/lib/python3.11/dist-packages (from requests<3,>=2.21.0->tensorboard<2.13,>=2.12->tensorflow<2.13,>=2.12.0->tensorflow-text==2.12.0) (3.4.2)\n",
            "Requirement already satisfied: idna<4,>=2.5 in /usr/local/lib/python3.11/dist-packages (from requests<3,>=2.21.0->tensorboard<2.13,>=2.12->tensorflow<2.13,>=2.12.0->tensorflow-text==2.12.0) (3.10)\n",
            "Requirement already satisfied: urllib3<3,>=1.21.1 in /usr/local/lib/python3.11/dist-packages (from requests<3,>=2.21.0->tensorboard<2.13,>=2.12->tensorflow<2.13,>=2.12.0->tensorflow-text==2.12.0) (2.4.0)\n",
            "Requirement already satisfied: certifi>=2017.4.17 in /usr/local/lib/python3.11/dist-packages (from requests<3,>=2.21.0->tensorboard<2.13,>=2.12->tensorflow<2.13,>=2.12.0->tensorflow-text==2.12.0) (2025.4.26)\n",
            "Requirement already satisfied: MarkupSafe>=2.1.1 in /usr/local/lib/python3.11/dist-packages (from werkzeug>=1.0.1->tensorboard<2.13,>=2.12->tensorflow<2.13,>=2.12.0->tensorflow-text==2.12.0) (3.0.2)\n",
            "Requirement already satisfied: pyasn1<0.7.0,>=0.6.1 in /usr/local/lib/python3.11/dist-packages (from pyasn1-modules>=0.2.1->google-auth<3,>=1.6.3->tensorboard<2.13,>=2.12->tensorflow<2.13,>=2.12.0->tensorflow-text==2.12.0) (0.6.1)\n",
            "Requirement already satisfied: oauthlib>=3.0.0 in /usr/local/lib/python3.11/dist-packages (from requests-oauthlib>=0.7.0->google-auth-oauthlib<1.1,>=0.5->tensorboard<2.13,>=2.12->tensorflow<2.13,>=2.12.0->tensorflow-text==2.12.0) (3.2.2)\n"
          ]
        }
      ],
      "source": [
        "# A dependency of the preprocessing for BERT inputs\n",
        "!pip install tensorflow-text==2.12.0"
      ]
    },
    {
      "cell_type": "code",
      "execution_count": 6,
      "metadata": {
        "id": "kC5UIHQhJMbM"
      },
      "outputs": [],
      "source": [
        "!pip install -q tf-models-official==2.7.0"
      ]
    },
    {
      "cell_type": "code",
      "source": [
        "!pip install boto3"
      ],
      "metadata": {
        "colab": {
          "base_uri": "https://localhost:8080/"
        },
        "id": "Y0gbuNrh9O1g",
        "outputId": "65e3c442-e4eb-4812-ed57-f4f2a3e3c9e3"
      },
      "execution_count": 7,
      "outputs": [
        {
          "output_type": "stream",
          "name": "stdout",
          "text": [
            "Requirement already satisfied: boto3 in /usr/local/lib/python3.11/dist-packages (1.38.15)\n",
            "Requirement already satisfied: botocore<1.39.0,>=1.38.15 in /usr/local/lib/python3.11/dist-packages (from boto3) (1.38.15)\n",
            "Requirement already satisfied: jmespath<2.0.0,>=0.7.1 in /usr/local/lib/python3.11/dist-packages (from boto3) (1.0.1)\n",
            "Requirement already satisfied: s3transfer<0.13.0,>=0.12.0 in /usr/local/lib/python3.11/dist-packages (from boto3) (0.12.0)\n",
            "Requirement already satisfied: python-dateutil<3.0.0,>=2.1 in /usr/local/lib/python3.11/dist-packages (from botocore<1.39.0,>=1.38.15->boto3) (2.9.0.post0)\n",
            "Requirement already satisfied: urllib3!=2.2.0,<3,>=1.25.4 in /usr/local/lib/python3.11/dist-packages (from botocore<1.39.0,>=1.38.15->boto3) (2.4.0)\n",
            "Requirement already satisfied: six>=1.5 in /usr/local/lib/python3.11/dist-packages (from python-dateutil<3.0.0,>=2.1->botocore<1.39.0,>=1.38.15->boto3) (1.17.0)\n"
          ]
        }
      ]
    },
    {
      "cell_type": "code",
      "source": [
        "!pip install numpy==1.23.5"
      ],
      "metadata": {
        "colab": {
          "base_uri": "https://localhost:8080/"
        },
        "id": "06K-QekkPP99",
        "outputId": "36cb2eff-3b6c-47dc-eb0b-cf55aacb786d"
      },
      "execution_count": 9,
      "outputs": [
        {
          "output_type": "stream",
          "name": "stdout",
          "text": [
            "Requirement already satisfied: numpy==1.23.5 in /usr/local/lib/python3.11/dist-packages (1.23.5)\n"
          ]
        }
      ]
    },
    {
      "cell_type": "code",
      "execution_count": 10,
      "metadata": {
        "id": "PGwkTxHNJOFw",
        "colab": {
          "base_uri": "https://localhost:8080/"
        },
        "outputId": "18c25813-534f-4b49-a164-1f67d23ff0d0"
      },
      "outputs": [
        {
          "output_type": "stream",
          "name": "stderr",
          "text": [
            "/usr/local/lib/python3.11/dist-packages/tensorflow_addons/utils/tfa_eol_msg.py:23: UserWarning: \n",
            "\n",
            "TensorFlow Addons (TFA) has ended development and introduction of new features.\n",
            "TFA has entered a minimal maintenance and release mode until a planned end of life in May 2024.\n",
            "Please modify downstream libraries to take dependencies from other repositories in our TensorFlow community (e.g. Keras, Keras-CV, and Keras-NLP). \n",
            "\n",
            "For more information see: https://github.com/tensorflow/addons/issues/2807 \n",
            "\n",
            "  warnings.warn(\n",
            "/usr/local/lib/python3.11/dist-packages/tensorflow_addons/utils/ensure_tf_install.py:53: UserWarning: Tensorflow Addons supports using Python ops for all Tensorflow versions above or equal to 2.13.0 and strictly below 2.16.0 (nightly versions are not supported). \n",
            " The versions of TensorFlow you are currently using is 2.12.1 and is not supported. \n",
            "Some things might work, some things might not.\n",
            "If you were to encounter a bug, do not file an issue.\n",
            "If you want to make sure you're using a tested and supported configuration, either change the TensorFlow version or the TensorFlow Addons's version. \n",
            "You can find the compatibility matrix in TensorFlow Addon's readme:\n",
            "https://github.com/tensorflow/addons\n",
            "  warnings.warn(\n"
          ]
        }
      ],
      "source": [
        "import os\n",
        "import shutil\n",
        "\n",
        "import tensorflow as tf\n",
        "import tensorflow_hub as hub\n",
        "import tensorflow_text as text\n",
        "from official.nlp import optimization  # to create AdamW optimizer\n",
        "\n",
        "import matplotlib.pyplot as plt\n",
        "\n",
        "tf.get_logger().setLevel('ERROR')"
      ]
    },
    {
      "cell_type": "code",
      "execution_count": 13,
      "metadata": {
        "id": "HX9C80DKTcmF",
        "colab": {
          "base_uri": "https://localhost:8080/",
          "height": 816
        },
        "outputId": "2a636df5-7c1c-4d3c-f9c2-0da2217e9d03"
      },
      "outputs": [
        {
          "output_type": "stream",
          "name": "stdout",
          "text": [
            "21\n",
            "['ASK_AMENITY' 'ASK_BOOKING_CANCEL' 'ASK_BOOKING_STATUS' 'ASK_CATEGORY'\n",
            " 'ASK_CHAT_HISTORY' 'ASK_COUNTRY' 'ASK_FAVORITE' 'ASK_FAVORITE_VIEW'\n",
            " 'ASK_IMAGE' 'ASK_LISTING_CAPACITY' 'ASK_LISTING_DETAIL'\n",
            " 'ASK_PAYMENT_CONFIRM' 'ASK_PAYMENT_METHOD' 'ASK_REVIEW' 'ASK_REVIEW_EDIT'\n",
            " 'ASK_SUPPORT' 'ASK_USER_PASSWORD' 'ASK_USER_PROFILE']\n"
          ]
        },
        {
          "output_type": "execute_result",
          "data": {
            "text/plain": [
              "                  intent                                               text  \\\n",
              "0            ASK_AMENITY                               Phòng có wifi không?   \n",
              "1            ASK_AMENITY                        Homestay có máy giặt không?   \n",
              "2            ASK_AMENITY                       Có chỗ đỗ xe miễn phí không?   \n",
              "3     ASK_LISTING_DETAIL                                Homestay ở khu nào?   \n",
              "4   ASK_LISTING_CAPACITY               Một phòng chứa được bao nhiêu người?   \n",
              "5           ASK_CATEGORY      Có loại chỗ ở nào phù hợp với gia đình không?   \n",
              "6           ASK_CATEGORY                               Có phòng dorm không?   \n",
              "7     ASK_BOOKING_STATUS          Làm sao để kiểm tra tình trạng đặt phòng?   \n",
              "8     ASK_BOOKING_CANCEL                         Hủy đặt phòng như thế nào?   \n",
              "9       ASK_USER_PROFILE                      Làm sao để đổi tên tài khoản?   \n",
              "10     ASK_USER_PASSWORD                         Tôi quên mật khẩu thì sao?   \n",
              "11    ASK_PAYMENT_METHOD              Tôi có thể thanh toán bằng thẻ không?   \n",
              "12   ASK_PAYMENT_CONFIRM          Sau bao lâu thì thanh toán được xác nhận?   \n",
              "13            ASK_REVIEW                     Làm sao để đánh giá sau khi ở?   \n",
              "14       ASK_REVIEW_EDIT                     Tôi có thể sửa đánh giá không?   \n",
              "15          ASK_FAVORITE            Làm sao để thêm homestay vào yêu thích?   \n",
              "16     ASK_FAVORITE_VIEW                 Tôi xem danh sách yêu thích ở đâu?   \n",
              "17           ASK_SUPPORT  Tôi có thể nói chuyện với nhân viên hỗ trợ không?   \n",
              "18      ASK_CHAT_HISTORY          Tôi có thể xem lại tin nhắn đã gửi không?   \n",
              "19             ASK_IMAGE  Tôi có thể xem hình ảnh phòng trước khi đặt kh...   \n",
              "20           ASK_COUNTRY                    Homestay có ở nước ngoài không?   \n",
              "\n",
              "                                                reply  \n",
              "0           Dạ có, tất cả phòng đều có wifi miễn phí.  \n",
              "1      Dạ có, homestay có máy giặt cho khách sử dụng.  \n",
              "2   Dạ có, bạn được sử dụng chỗ đỗ xe miễn phí tại...  \n",
              "3   Bạn có thể chọn homestay tại nhiều khu vực khá...  \n",
              "4   Sức chứa tùy vào loại phòng, thường từ 2 đến 6...  \n",
              "5   Dạ có, bạn có thể chọn loại chỗ ở như căn hộ h...  \n",
              "6   Dạ có, chúng tôi có loại phòng dorm phù hợp vớ...  \n",
              "7   Bạn có thể kiểm tra trong mục 'Đơn đặt phòng' ...  \n",
              "8   Bạn có thể hủy trong phần chi tiết đặt phòng n...  \n",
              "9   Bạn có thể vào mục 'Tài khoản' để chỉnh sửa tê...  \n",
              "10  Bạn có thể chọn 'Quên mật khẩu' để đặt lại qua...  \n",
              "11  Dạ có, chúng tôi hỗ trợ thanh toán bằng thẻ tí...  \n",
              "12  Thông thường trong vòng vài phút sau khi thanh...  \n",
              "13  Sau khi checkout, bạn sẽ nhận được lời mời để ...  \n",
              "14  Dạ không, sau khi đăng, đánh giá không thể chỉ...  \n",
              "15  Bạn có thể nhấn biểu tượng trái tim để thêm và...  \n",
              "16         Trong mục 'Yêu thích' ở tài khoản cá nhân.  \n",
              "17  Dạ được, bạn có thể nhắn tin qua mục Hỗ trợ kh...  \n",
              "18  Dạ có, bạn có thể xem lại lịch sử trò chuyện t...  \n",
              "19   Dạ có, mỗi homestay đều có ảnh minh họa rõ ràng.  \n",
              "20  Hiện tại RestNest tập trung tại thị trường Việ...  "
            ],
            "text/html": [
              "\n",
              "  <div id=\"df-5b2630f0-e941-48e3-9662-10c23249df05\" class=\"colab-df-container\">\n",
              "    <div>\n",
              "<style scoped>\n",
              "    .dataframe tbody tr th:only-of-type {\n",
              "        vertical-align: middle;\n",
              "    }\n",
              "\n",
              "    .dataframe tbody tr th {\n",
              "        vertical-align: top;\n",
              "    }\n",
              "\n",
              "    .dataframe thead th {\n",
              "        text-align: right;\n",
              "    }\n",
              "</style>\n",
              "<table border=\"1\" class=\"dataframe\">\n",
              "  <thead>\n",
              "    <tr style=\"text-align: right;\">\n",
              "      <th></th>\n",
              "      <th>intent</th>\n",
              "      <th>text</th>\n",
              "      <th>reply</th>\n",
              "    </tr>\n",
              "  </thead>\n",
              "  <tbody>\n",
              "    <tr>\n",
              "      <th>0</th>\n",
              "      <td>ASK_AMENITY</td>\n",
              "      <td>Phòng có wifi không?</td>\n",
              "      <td>Dạ có, tất cả phòng đều có wifi miễn phí.</td>\n",
              "    </tr>\n",
              "    <tr>\n",
              "      <th>1</th>\n",
              "      <td>ASK_AMENITY</td>\n",
              "      <td>Homestay có máy giặt không?</td>\n",
              "      <td>Dạ có, homestay có máy giặt cho khách sử dụng.</td>\n",
              "    </tr>\n",
              "    <tr>\n",
              "      <th>2</th>\n",
              "      <td>ASK_AMENITY</td>\n",
              "      <td>Có chỗ đỗ xe miễn phí không?</td>\n",
              "      <td>Dạ có, bạn được sử dụng chỗ đỗ xe miễn phí tại...</td>\n",
              "    </tr>\n",
              "    <tr>\n",
              "      <th>3</th>\n",
              "      <td>ASK_LISTING_DETAIL</td>\n",
              "      <td>Homestay ở khu nào?</td>\n",
              "      <td>Bạn có thể chọn homestay tại nhiều khu vực khá...</td>\n",
              "    </tr>\n",
              "    <tr>\n",
              "      <th>4</th>\n",
              "      <td>ASK_LISTING_CAPACITY</td>\n",
              "      <td>Một phòng chứa được bao nhiêu người?</td>\n",
              "      <td>Sức chứa tùy vào loại phòng, thường từ 2 đến 6...</td>\n",
              "    </tr>\n",
              "    <tr>\n",
              "      <th>5</th>\n",
              "      <td>ASK_CATEGORY</td>\n",
              "      <td>Có loại chỗ ở nào phù hợp với gia đình không?</td>\n",
              "      <td>Dạ có, bạn có thể chọn loại chỗ ở như căn hộ h...</td>\n",
              "    </tr>\n",
              "    <tr>\n",
              "      <th>6</th>\n",
              "      <td>ASK_CATEGORY</td>\n",
              "      <td>Có phòng dorm không?</td>\n",
              "      <td>Dạ có, chúng tôi có loại phòng dorm phù hợp vớ...</td>\n",
              "    </tr>\n",
              "    <tr>\n",
              "      <th>7</th>\n",
              "      <td>ASK_BOOKING_STATUS</td>\n",
              "      <td>Làm sao để kiểm tra tình trạng đặt phòng?</td>\n",
              "      <td>Bạn có thể kiểm tra trong mục 'Đơn đặt phòng' ...</td>\n",
              "    </tr>\n",
              "    <tr>\n",
              "      <th>8</th>\n",
              "      <td>ASK_BOOKING_CANCEL</td>\n",
              "      <td>Hủy đặt phòng như thế nào?</td>\n",
              "      <td>Bạn có thể hủy trong phần chi tiết đặt phòng n...</td>\n",
              "    </tr>\n",
              "    <tr>\n",
              "      <th>9</th>\n",
              "      <td>ASK_USER_PROFILE</td>\n",
              "      <td>Làm sao để đổi tên tài khoản?</td>\n",
              "      <td>Bạn có thể vào mục 'Tài khoản' để chỉnh sửa tê...</td>\n",
              "    </tr>\n",
              "    <tr>\n",
              "      <th>10</th>\n",
              "      <td>ASK_USER_PASSWORD</td>\n",
              "      <td>Tôi quên mật khẩu thì sao?</td>\n",
              "      <td>Bạn có thể chọn 'Quên mật khẩu' để đặt lại qua...</td>\n",
              "    </tr>\n",
              "    <tr>\n",
              "      <th>11</th>\n",
              "      <td>ASK_PAYMENT_METHOD</td>\n",
              "      <td>Tôi có thể thanh toán bằng thẻ không?</td>\n",
              "      <td>Dạ có, chúng tôi hỗ trợ thanh toán bằng thẻ tí...</td>\n",
              "    </tr>\n",
              "    <tr>\n",
              "      <th>12</th>\n",
              "      <td>ASK_PAYMENT_CONFIRM</td>\n",
              "      <td>Sau bao lâu thì thanh toán được xác nhận?</td>\n",
              "      <td>Thông thường trong vòng vài phút sau khi thanh...</td>\n",
              "    </tr>\n",
              "    <tr>\n",
              "      <th>13</th>\n",
              "      <td>ASK_REVIEW</td>\n",
              "      <td>Làm sao để đánh giá sau khi ở?</td>\n",
              "      <td>Sau khi checkout, bạn sẽ nhận được lời mời để ...</td>\n",
              "    </tr>\n",
              "    <tr>\n",
              "      <th>14</th>\n",
              "      <td>ASK_REVIEW_EDIT</td>\n",
              "      <td>Tôi có thể sửa đánh giá không?</td>\n",
              "      <td>Dạ không, sau khi đăng, đánh giá không thể chỉ...</td>\n",
              "    </tr>\n",
              "    <tr>\n",
              "      <th>15</th>\n",
              "      <td>ASK_FAVORITE</td>\n",
              "      <td>Làm sao để thêm homestay vào yêu thích?</td>\n",
              "      <td>Bạn có thể nhấn biểu tượng trái tim để thêm và...</td>\n",
              "    </tr>\n",
              "    <tr>\n",
              "      <th>16</th>\n",
              "      <td>ASK_FAVORITE_VIEW</td>\n",
              "      <td>Tôi xem danh sách yêu thích ở đâu?</td>\n",
              "      <td>Trong mục 'Yêu thích' ở tài khoản cá nhân.</td>\n",
              "    </tr>\n",
              "    <tr>\n",
              "      <th>17</th>\n",
              "      <td>ASK_SUPPORT</td>\n",
              "      <td>Tôi có thể nói chuyện với nhân viên hỗ trợ không?</td>\n",
              "      <td>Dạ được, bạn có thể nhắn tin qua mục Hỗ trợ kh...</td>\n",
              "    </tr>\n",
              "    <tr>\n",
              "      <th>18</th>\n",
              "      <td>ASK_CHAT_HISTORY</td>\n",
              "      <td>Tôi có thể xem lại tin nhắn đã gửi không?</td>\n",
              "      <td>Dạ có, bạn có thể xem lại lịch sử trò chuyện t...</td>\n",
              "    </tr>\n",
              "    <tr>\n",
              "      <th>19</th>\n",
              "      <td>ASK_IMAGE</td>\n",
              "      <td>Tôi có thể xem hình ảnh phòng trước khi đặt kh...</td>\n",
              "      <td>Dạ có, mỗi homestay đều có ảnh minh họa rõ ràng.</td>\n",
              "    </tr>\n",
              "    <tr>\n",
              "      <th>20</th>\n",
              "      <td>ASK_COUNTRY</td>\n",
              "      <td>Homestay có ở nước ngoài không?</td>\n",
              "      <td>Hiện tại RestNest tập trung tại thị trường Việ...</td>\n",
              "    </tr>\n",
              "  </tbody>\n",
              "</table>\n",
              "</div>\n",
              "    <div class=\"colab-df-buttons\">\n",
              "\n",
              "  <div class=\"colab-df-container\">\n",
              "    <button class=\"colab-df-convert\" onclick=\"convertToInteractive('df-5b2630f0-e941-48e3-9662-10c23249df05')\"\n",
              "            title=\"Convert this dataframe to an interactive table.\"\n",
              "            style=\"display:none;\">\n",
              "\n",
              "  <svg xmlns=\"http://www.w3.org/2000/svg\" height=\"24px\" viewBox=\"0 -960 960 960\">\n",
              "    <path d=\"M120-120v-720h720v720H120Zm60-500h600v-160H180v160Zm220 220h160v-160H400v160Zm0 220h160v-160H400v160ZM180-400h160v-160H180v160Zm440 0h160v-160H620v160ZM180-180h160v-160H180v160Zm440 0h160v-160H620v160Z\"/>\n",
              "  </svg>\n",
              "    </button>\n",
              "\n",
              "  <style>\n",
              "    .colab-df-container {\n",
              "      display:flex;\n",
              "      gap: 12px;\n",
              "    }\n",
              "\n",
              "    .colab-df-convert {\n",
              "      background-color: #E8F0FE;\n",
              "      border: none;\n",
              "      border-radius: 50%;\n",
              "      cursor: pointer;\n",
              "      display: none;\n",
              "      fill: #1967D2;\n",
              "      height: 32px;\n",
              "      padding: 0 0 0 0;\n",
              "      width: 32px;\n",
              "    }\n",
              "\n",
              "    .colab-df-convert:hover {\n",
              "      background-color: #E2EBFA;\n",
              "      box-shadow: 0px 1px 2px rgba(60, 64, 67, 0.3), 0px 1px 3px 1px rgba(60, 64, 67, 0.15);\n",
              "      fill: #174EA6;\n",
              "    }\n",
              "\n",
              "    .colab-df-buttons div {\n",
              "      margin-bottom: 4px;\n",
              "    }\n",
              "\n",
              "    [theme=dark] .colab-df-convert {\n",
              "      background-color: #3B4455;\n",
              "      fill: #D2E3FC;\n",
              "    }\n",
              "\n",
              "    [theme=dark] .colab-df-convert:hover {\n",
              "      background-color: #434B5C;\n",
              "      box-shadow: 0px 1px 3px 1px rgba(0, 0, 0, 0.15);\n",
              "      filter: drop-shadow(0px 1px 2px rgba(0, 0, 0, 0.3));\n",
              "      fill: #FFFFFF;\n",
              "    }\n",
              "  </style>\n",
              "\n",
              "    <script>\n",
              "      const buttonEl =\n",
              "        document.querySelector('#df-5b2630f0-e941-48e3-9662-10c23249df05 button.colab-df-convert');\n",
              "      buttonEl.style.display =\n",
              "        google.colab.kernel.accessAllowed ? 'block' : 'none';\n",
              "\n",
              "      async function convertToInteractive(key) {\n",
              "        const element = document.querySelector('#df-5b2630f0-e941-48e3-9662-10c23249df05');\n",
              "        const dataTable =\n",
              "          await google.colab.kernel.invokeFunction('convertToInteractive',\n",
              "                                                    [key], {});\n",
              "        if (!dataTable) return;\n",
              "\n",
              "        const docLinkHtml = 'Like what you see? Visit the ' +\n",
              "          '<a target=\"_blank\" href=https://colab.research.google.com/notebooks/data_table.ipynb>data table notebook</a>'\n",
              "          + ' to learn more about interactive tables.';\n",
              "        element.innerHTML = '';\n",
              "        dataTable['output_type'] = 'display_data';\n",
              "        await google.colab.output.renderOutput(dataTable, element);\n",
              "        const docLink = document.createElement('div');\n",
              "        docLink.innerHTML = docLinkHtml;\n",
              "        element.appendChild(docLink);\n",
              "      }\n",
              "    </script>\n",
              "  </div>\n",
              "\n",
              "\n",
              "    <div id=\"df-e2f518e6-adbb-466e-8dd2-f3c1dee089f8\">\n",
              "      <button class=\"colab-df-quickchart\" onclick=\"quickchart('df-e2f518e6-adbb-466e-8dd2-f3c1dee089f8')\"\n",
              "                title=\"Suggest charts\"\n",
              "                style=\"display:none;\">\n",
              "\n",
              "<svg xmlns=\"http://www.w3.org/2000/svg\" height=\"24px\"viewBox=\"0 0 24 24\"\n",
              "     width=\"24px\">\n",
              "    <g>\n",
              "        <path d=\"M19 3H5c-1.1 0-2 .9-2 2v14c0 1.1.9 2 2 2h14c1.1 0 2-.9 2-2V5c0-1.1-.9-2-2-2zM9 17H7v-7h2v7zm4 0h-2V7h2v10zm4 0h-2v-4h2v4z\"/>\n",
              "    </g>\n",
              "</svg>\n",
              "      </button>\n",
              "\n",
              "<style>\n",
              "  .colab-df-quickchart {\n",
              "      --bg-color: #E8F0FE;\n",
              "      --fill-color: #1967D2;\n",
              "      --hover-bg-color: #E2EBFA;\n",
              "      --hover-fill-color: #174EA6;\n",
              "      --disabled-fill-color: #AAA;\n",
              "      --disabled-bg-color: #DDD;\n",
              "  }\n",
              "\n",
              "  [theme=dark] .colab-df-quickchart {\n",
              "      --bg-color: #3B4455;\n",
              "      --fill-color: #D2E3FC;\n",
              "      --hover-bg-color: #434B5C;\n",
              "      --hover-fill-color: #FFFFFF;\n",
              "      --disabled-bg-color: #3B4455;\n",
              "      --disabled-fill-color: #666;\n",
              "  }\n",
              "\n",
              "  .colab-df-quickchart {\n",
              "    background-color: var(--bg-color);\n",
              "    border: none;\n",
              "    border-radius: 50%;\n",
              "    cursor: pointer;\n",
              "    display: none;\n",
              "    fill: var(--fill-color);\n",
              "    height: 32px;\n",
              "    padding: 0;\n",
              "    width: 32px;\n",
              "  }\n",
              "\n",
              "  .colab-df-quickchart:hover {\n",
              "    background-color: var(--hover-bg-color);\n",
              "    box-shadow: 0 1px 2px rgba(60, 64, 67, 0.3), 0 1px 3px 1px rgba(60, 64, 67, 0.15);\n",
              "    fill: var(--button-hover-fill-color);\n",
              "  }\n",
              "\n",
              "  .colab-df-quickchart-complete:disabled,\n",
              "  .colab-df-quickchart-complete:disabled:hover {\n",
              "    background-color: var(--disabled-bg-color);\n",
              "    fill: var(--disabled-fill-color);\n",
              "    box-shadow: none;\n",
              "  }\n",
              "\n",
              "  .colab-df-spinner {\n",
              "    border: 2px solid var(--fill-color);\n",
              "    border-color: transparent;\n",
              "    border-bottom-color: var(--fill-color);\n",
              "    animation:\n",
              "      spin 1s steps(1) infinite;\n",
              "  }\n",
              "\n",
              "  @keyframes spin {\n",
              "    0% {\n",
              "      border-color: transparent;\n",
              "      border-bottom-color: var(--fill-color);\n",
              "      border-left-color: var(--fill-color);\n",
              "    }\n",
              "    20% {\n",
              "      border-color: transparent;\n",
              "      border-left-color: var(--fill-color);\n",
              "      border-top-color: var(--fill-color);\n",
              "    }\n",
              "    30% {\n",
              "      border-color: transparent;\n",
              "      border-left-color: var(--fill-color);\n",
              "      border-top-color: var(--fill-color);\n",
              "      border-right-color: var(--fill-color);\n",
              "    }\n",
              "    40% {\n",
              "      border-color: transparent;\n",
              "      border-right-color: var(--fill-color);\n",
              "      border-top-color: var(--fill-color);\n",
              "    }\n",
              "    60% {\n",
              "      border-color: transparent;\n",
              "      border-right-color: var(--fill-color);\n",
              "    }\n",
              "    80% {\n",
              "      border-color: transparent;\n",
              "      border-right-color: var(--fill-color);\n",
              "      border-bottom-color: var(--fill-color);\n",
              "    }\n",
              "    90% {\n",
              "      border-color: transparent;\n",
              "      border-bottom-color: var(--fill-color);\n",
              "    }\n",
              "  }\n",
              "</style>\n",
              "\n",
              "      <script>\n",
              "        async function quickchart(key) {\n",
              "          const quickchartButtonEl =\n",
              "            document.querySelector('#' + key + ' button');\n",
              "          quickchartButtonEl.disabled = true;  // To prevent multiple clicks.\n",
              "          quickchartButtonEl.classList.add('colab-df-spinner');\n",
              "          try {\n",
              "            const charts = await google.colab.kernel.invokeFunction(\n",
              "                'suggestCharts', [key], {});\n",
              "          } catch (error) {\n",
              "            console.error('Error during call to suggestCharts:', error);\n",
              "          }\n",
              "          quickchartButtonEl.classList.remove('colab-df-spinner');\n",
              "          quickchartButtonEl.classList.add('colab-df-quickchart-complete');\n",
              "        }\n",
              "        (() => {\n",
              "          let quickchartButtonEl =\n",
              "            document.querySelector('#df-e2f518e6-adbb-466e-8dd2-f3c1dee089f8 button');\n",
              "          quickchartButtonEl.style.display =\n",
              "            google.colab.kernel.accessAllowed ? 'block' : 'none';\n",
              "        })();\n",
              "      </script>\n",
              "    </div>\n",
              "\n",
              "  <div id=\"id_a2e297e1-b0b8-48da-a6b6-d680d0e2bd73\">\n",
              "    <style>\n",
              "      .colab-df-generate {\n",
              "        background-color: #E8F0FE;\n",
              "        border: none;\n",
              "        border-radius: 50%;\n",
              "        cursor: pointer;\n",
              "        display: none;\n",
              "        fill: #1967D2;\n",
              "        height: 32px;\n",
              "        padding: 0 0 0 0;\n",
              "        width: 32px;\n",
              "      }\n",
              "\n",
              "      .colab-df-generate:hover {\n",
              "        background-color: #E2EBFA;\n",
              "        box-shadow: 0px 1px 2px rgba(60, 64, 67, 0.3), 0px 1px 3px 1px rgba(60, 64, 67, 0.15);\n",
              "        fill: #174EA6;\n",
              "      }\n",
              "\n",
              "      [theme=dark] .colab-df-generate {\n",
              "        background-color: #3B4455;\n",
              "        fill: #D2E3FC;\n",
              "      }\n",
              "\n",
              "      [theme=dark] .colab-df-generate:hover {\n",
              "        background-color: #434B5C;\n",
              "        box-shadow: 0px 1px 3px 1px rgba(0, 0, 0, 0.15);\n",
              "        filter: drop-shadow(0px 1px 2px rgba(0, 0, 0, 0.3));\n",
              "        fill: #FFFFFF;\n",
              "      }\n",
              "    </style>\n",
              "    <button class=\"colab-df-generate\" onclick=\"generateWithVariable('df')\"\n",
              "            title=\"Generate code using this dataframe.\"\n",
              "            style=\"display:none;\">\n",
              "\n",
              "  <svg xmlns=\"http://www.w3.org/2000/svg\" height=\"24px\"viewBox=\"0 0 24 24\"\n",
              "       width=\"24px\">\n",
              "    <path d=\"M7,19H8.4L18.45,9,17,7.55,7,17.6ZM5,21V16.75L18.45,3.32a2,2,0,0,1,2.83,0l1.4,1.43a1.91,1.91,0,0,1,.58,1.4,1.91,1.91,0,0,1-.58,1.4L9.25,21ZM18.45,9,17,7.55Zm-12,3A5.31,5.31,0,0,0,4.9,8.1,5.31,5.31,0,0,0,1,6.5,5.31,5.31,0,0,0,4.9,4.9,5.31,5.31,0,0,0,6.5,1,5.31,5.31,0,0,0,8.1,4.9,5.31,5.31,0,0,0,12,6.5,5.46,5.46,0,0,0,6.5,12Z\"/>\n",
              "  </svg>\n",
              "    </button>\n",
              "    <script>\n",
              "      (() => {\n",
              "      const buttonEl =\n",
              "        document.querySelector('#id_a2e297e1-b0b8-48da-a6b6-d680d0e2bd73 button.colab-df-generate');\n",
              "      buttonEl.style.display =\n",
              "        google.colab.kernel.accessAllowed ? 'block' : 'none';\n",
              "\n",
              "      buttonEl.onclick = () => {\n",
              "        google.colab.notebook.generateWithVariable('df');\n",
              "      }\n",
              "      })();\n",
              "    </script>\n",
              "  </div>\n",
              "\n",
              "    </div>\n",
              "  </div>\n"
            ],
            "application/vnd.google.colaboratory.intrinsic+json": {
              "type": "dataframe",
              "variable_name": "df",
              "summary": "{\n  \"name\": \"df\",\n  \"rows\": 21,\n  \"fields\": [\n    {\n      \"column\": \"intent\",\n      \"properties\": {\n        \"dtype\": \"string\",\n        \"num_unique_values\": 18,\n        \"samples\": [\n          \"ASK_AMENITY\",\n          \"ASK_LISTING_DETAIL\",\n          \"ASK_PAYMENT_METHOD\"\n        ],\n        \"semantic_type\": \"\",\n        \"description\": \"\"\n      }\n    },\n    {\n      \"column\": \"text\",\n      \"properties\": {\n        \"dtype\": \"string\",\n        \"num_unique_values\": 21,\n        \"samples\": [\n          \"Ph\\u00f2ng c\\u00f3 wifi kh\\u00f4ng?\",\n          \"T\\u00f4i c\\u00f3 th\\u1ec3 n\\u00f3i chuy\\u1ec7n v\\u1edbi nh\\u00e2n vi\\u00ean h\\u1ed7 tr\\u1ee3 kh\\u00f4ng?\",\n          \"L\\u00e0m sao \\u0111\\u1ec3 th\\u00eam homestay v\\u00e0o y\\u00eau th\\u00edch?\"\n        ],\n        \"semantic_type\": \"\",\n        \"description\": \"\"\n      }\n    },\n    {\n      \"column\": \"reply\",\n      \"properties\": {\n        \"dtype\": \"string\",\n        \"num_unique_values\": 21,\n        \"samples\": [\n          \"D\\u1ea1 c\\u00f3, t\\u1ea5t c\\u1ea3 ph\\u00f2ng \\u0111\\u1ec1u c\\u00f3 wifi mi\\u1ec5n ph\\u00ed.\",\n          \"D\\u1ea1 \\u0111\\u01b0\\u1ee3c, b\\u1ea1n c\\u00f3 th\\u1ec3 nh\\u1eafn tin qua m\\u1ee5c H\\u1ed7 tr\\u1ee3 kh\\u00e1ch h\\u00e0ng.\",\n          \"B\\u1ea1n c\\u00f3 th\\u1ec3 nh\\u1ea5n bi\\u1ec3u t\\u01b0\\u1ee3ng tr\\u00e1i tim \\u0111\\u1ec3 th\\u00eam v\\u00e0o danh s\\u00e1ch y\\u00eau th\\u00edch.\"\n        ],\n        \"semantic_type\": \"\",\n        \"description\": \"\"\n      }\n    }\n  ]\n}"
            }
          },
          "metadata": {},
          "execution_count": 13
        }
      ],
      "source": [
        "import pandas as pd\n",
        "\n",
        "data = pd.read_csv('/content/drive/MyDrive/PBL5/restnest_chatbot_dataset.csv')\n",
        "\n",
        "data = data[data['intent']!='FALLBACK']\n",
        "data = data[data['intent']!='FORBIDDEN']\n",
        "data = data[~data['intent'].str.startswith(\"OTHERS_\")]\n",
        "\n",
        "df = pd.DataFrame(data)\n",
        "\n",
        "from sklearn import preprocessing\n",
        "le = preprocessing.LabelEncoder()\n",
        "le.fit(df['intent'])\n",
        "\n",
        "num_of_classes = len(le.classes_)\n",
        "\n",
        "from sklearn.model_selection import train_test_split\n",
        "y = tf.keras.utils.to_categorical(le.transform(df[\"intent\"]))\n",
        "x_train, x_test, y_train, y_test = train_test_split(df['text'], y, test_size=0.25)\n",
        "\n",
        "\n",
        "print(len(df))\n",
        "print(le.classes_)\n",
        "df"
      ]
    },
    {
      "cell_type": "code",
      "execution_count": 14,
      "metadata": {
        "colab": {
          "base_uri": "https://localhost:8080/"
        },
        "id": "iAXXUfOzaXLZ",
        "outputId": "cfa0e913-17f9-4629-850f-08725e811017"
      },
      "outputs": [
        {
          "output_type": "stream",
          "name": "stdout",
          "text": [
            "BERT model selected           : https://tfhub.dev/tensorflow/bert_multi_cased_L-12_H-768_A-12/4\n",
            "Preprocess model auto-selected: https://tfhub.dev/tensorflow/bert_multi_cased_preprocess/3\n"
          ]
        }
      ],
      "source": [
        "tfhub_handle_encoder = \"https://tfhub.dev/tensorflow/bert_multi_cased_L-12_H-768_A-12/4\"\n",
        "tfhub_handle_preprocess = \"https://tfhub.dev/tensorflow/bert_multi_cased_preprocess/3\"\n",
        "\n",
        "# only chinese model\n",
        "#tfhub_handle_encoder = \"https://tfhub.dev/tensorflow/bert_zh_L-12_H-768_A-12/4\"\n",
        "#tfhub_handle_preprocess = \"https://tfhub.dev/tensorflow/bert_zh_preprocess/3\"\n",
        "\n",
        "\n",
        "print(f'BERT model selected           : {tfhub_handle_encoder}')\n",
        "print(f'Preprocess model auto-selected: {tfhub_handle_preprocess}')"
      ]
    },
    {
      "cell_type": "code",
      "execution_count": 15,
      "metadata": {
        "id": "Q0LJw_VIajNP"
      },
      "outputs": [],
      "source": [
        "bert_preprocess_model = hub.KerasLayer(tfhub_handle_preprocess)"
      ]
    },
    {
      "cell_type": "code",
      "execution_count": 16,
      "metadata": {
        "colab": {
          "base_uri": "https://localhost:8080/"
        },
        "id": "hBH_lpFcbqfQ",
        "outputId": "985e7573-6ed9-4712-a8e1-49382659c238"
      },
      "outputs": [
        {
          "output_type": "stream",
          "name": "stdout",
          "text": [
            "Keys       : ['input_type_ids', 'input_mask', 'input_word_ids']\n",
            "Shape      : (1, 128)\n",
            "Word Ids   : [  101 72894 10284   169   184   184   180   173   102     0     0     0]\n",
            "Input Mask : [1 1 1 1 1 1 1 1 1 0 0 0]\n",
            "Type Ids   : [0 0 0 0 0 0 0 0 0 0 0 0]\n"
          ]
        }
      ],
      "source": [
        "text_test = ['apple a p p l e']\n",
        "text_preprocessed = bert_preprocess_model(text_test)\n",
        "\n",
        "print(f'Keys       : {list(text_preprocessed.keys())}')\n",
        "print(f'Shape      : {text_preprocessed[\"input_word_ids\"].shape}')\n",
        "print(f'Word Ids   : {text_preprocessed[\"input_word_ids\"][0, :12]}')\n",
        "print(f'Input Mask : {text_preprocessed[\"input_mask\"][0, :12]}')\n",
        "print(f'Type Ids   : {text_preprocessed[\"input_type_ids\"][0, :12]}')"
      ]
    },
    {
      "cell_type": "code",
      "source": [
        "def build_classifier_model():\n",
        "  preprocessing_layer = hub.KerasLayer(tfhub_handle_preprocess, name='preprocessing')\n",
        "  encoder = hub.KerasLayer(tfhub_handle_encoder, trainable=True, name='BERT_encoder')\n",
        "\n",
        "  text_input = tf.keras.layers.Input(shape=(), dtype=tf.string, name='text')\n",
        "  encoder_inputs = preprocessing_layer(text_input)\n",
        "  outputs = encoder(encoder_inputs)\n",
        "  net = outputs['pooled_output']\n",
        "  # comment out dropout layer as we have underfitting\n",
        "  # net = tf.keras.layers.Dropout(0.1)(net)\n",
        "  net = tf.keras.layers.Dense(num_of_classes, activation='softmax', name='classifier')(net)\n",
        "  return tf.keras.Model(text_input, net)"
      ],
      "metadata": {
        "id": "1KHg3nZ37r55"
      },
      "execution_count": 17,
      "outputs": []
    },
    {
      "cell_type": "code",
      "execution_count": 18,
      "metadata": {
        "id": "Bp1aYuYDZ_kY",
        "colab": {
          "base_uri": "https://localhost:8080/",
          "height": 144
        },
        "outputId": "2b6c0f82-913b-4453-f5e9-d24a78da0951"
      },
      "outputs": [
        {
          "output_type": "execute_result",
          "data": {
            "text/plain": [
              "\"\\ndef build_classifier_model():\\n  preprocessor = hub.load(tfhub_handle_preprocess)\\n  text_input = [tf.keras.layers.Input(shape=(), dtype=tf.string, name='text')]\\n  tokenize = hub.KerasLayer(preprocessor.tokenize)\\n  tokenized_inputs = [tokenize(segment) for segment in text_input]\\n  seq_length = 80  # Your choice here.\\n  bert_pack_inputs = hub.KerasLayer(\\n    preprocessor.bert_pack_inputs,\\n    arguments=dict(seq_length=seq_length), name='preprocessing') \\n  encoder_inputs = bert_pack_inputs(tokenized_inputs)\\n  encoder = hub.KerasLayer(tfhub_handle_encoder, trainable=True, name='BERT_encoder')\\n  outputs = encoder(encoder_inputs)\\n  net = outputs['pooled_output']\\n  #net = tf.keras.layers.Dropout(0.1)(net)\\n  net = tf.keras.layers.Dense(num_of_classes, activation='softmax', name='classifier')(net)\\n  return tf.keras.Model(text_input, net)\\n\""
            ],
            "application/vnd.google.colaboratory.intrinsic+json": {
              "type": "string"
            }
          },
          "metadata": {},
          "execution_count": 18
        }
      ],
      "source": [
        "# custom sequence length\n",
        "\"\"\"\n",
        "def build_classifier_model():\n",
        "  preprocessor = hub.load(tfhub_handle_preprocess)\n",
        "  text_input = [tf.keras.layers.Input(shape=(), dtype=tf.string, name='text')]\n",
        "  tokenize = hub.KerasLayer(preprocessor.tokenize)\n",
        "  tokenized_inputs = [tokenize(segment) for segment in text_input]\n",
        "  seq_length = 80  # Your choice here.\n",
        "  bert_pack_inputs = hub.KerasLayer(\n",
        "    preprocessor.bert_pack_inputs,\n",
        "    arguments=dict(seq_length=seq_length), name='preprocessing')\n",
        "  encoder_inputs = bert_pack_inputs(tokenized_inputs)\n",
        "  encoder = hub.KerasLayer(tfhub_handle_encoder, trainable=True, name='BERT_encoder')\n",
        "  outputs = encoder(encoder_inputs)\n",
        "  net = outputs['pooled_output']\n",
        "  #net = tf.keras.layers.Dropout(0.1)(net)\n",
        "  net = tf.keras.layers.Dense(num_of_classes, activation='softmax', name='classifier')(net)\n",
        "  return tf.keras.Model(text_input, net)\n",
        "\"\"\""
      ]
    },
    {
      "cell_type": "code",
      "execution_count": 19,
      "metadata": {
        "id": "qHbH4U0WcrkE",
        "colab": {
          "base_uri": "https://localhost:8080/",
          "height": 369
        },
        "outputId": "7668de9a-087e-47b5-ea08-91334d6ce71e"
      },
      "outputs": [
        {
          "output_type": "execute_result",
          "data": {
            "image/png": "[encoded data removed]",
            "text/plain": [
              "<IPython.core.display.Image object>"
            ]
          },
          "metadata": {},
          "execution_count": 19
        }
      ],
      "source": [
        "classifier_model = build_classifier_model()\n",
        "tf.keras.utils.plot_model(classifier_model)\n"
      ]
    },
    {
      "cell_type": "code",
      "source": [
        "classifier_model.summary()\n"
      ],
      "metadata": {
        "colab": {
          "base_uri": "https://localhost:8080/"
        },
        "id": "FFjv93VxM7fg",
        "outputId": "119cb641-0299-4cc9-8c88-d4adeb2d9fee"
      },
      "execution_count": 20,
      "outputs": [
        {
          "output_type": "stream",
          "name": "stdout",
          "text": [
            "Model: \"model\"\n",
            "__________________________________________________________________________________________________\n",
            " Layer (type)                   Output Shape         Param #     Connected to                     \n",
            "==================================================================================================\n",
            " text (InputLayer)              [(None,)]            0           []                               \n",
            "                                                                                                  \n",
            " preprocessing (KerasLayer)     {'input_type_ids':   0           ['text[0][0]']                   \n",
            "                                (None, 128),                                                      \n",
            "                                 'input_mask': (Non                                               \n",
            "                                e, 128),                                                          \n",
            "                                 'input_word_ids':                                                \n",
            "                                (None, 128)}                                                      \n",
            "                                                                                                  \n",
            " BERT_encoder (KerasLayer)      {'pooled_output': (  177853441   ['preprocessing[0][0]',          \n",
            "                                None, 768),                       'preprocessing[0][1]',          \n",
            "                                 'sequence_output':               'preprocessing[0][2]']          \n",
            "                                 (None, 128, 768),                                                \n",
            "                                 'encoder_outputs':                                               \n",
            "                                 [(None, 128, 768),                                               \n",
            "                                 (None, 128, 768),                                                \n",
            "                                 (None, 128, 768),                                                \n",
            "                                 (None, 128, 768),                                                \n",
            "                                 (None, 128, 768),                                                \n",
            "                                 (None, 128, 768),                                                \n",
            "                                 (None, 128, 768),                                                \n",
            "                                 (None, 128, 768),                                                \n",
            "                                 (None, 128, 768),                                                \n",
            "                                 (None, 128, 768),                                                \n",
            "                                 (None, 128, 768),                                                \n",
            "                                 (None, 128, 768)],                                               \n",
            "                                 'default': (None,                                                \n",
            "                                768)}                                                             \n",
            "                                                                                                  \n",
            " classifier (Dense)             (None, 18)           13842       ['BERT_encoder[0][13]']          \n",
            "                                                                                                  \n",
            "==================================================================================================\n",
            "Total params: 177,867,283\n",
            "Trainable params: 177,867,282\n",
            "Non-trainable params: 1\n",
            "__________________________________________________________________________________________________\n"
          ]
        }
      ]
    },
    {
      "cell_type": "code",
      "source": [
        "\"\"\"\n",
        "epochs = 5\n",
        "steps_per_epoch = num_of_classes\n",
        "num_train_steps = steps_per_epoch * epochs\n",
        "num_warmup_steps = int(0.1*num_train_steps)\n",
        "print(steps_per_epoch)\n",
        "\n",
        "init_lr = 3e-5\n",
        "optimizer = optimization.create_optimizer(init_lr=init_lr,\n",
        "                                          num_train_steps=num_train_steps,\n",
        "                                          num_warmup_steps=num_warmup_steps,\n",
        "                                          optimizer_type='adamw')\n",
        "\"\"\""
      ],
      "metadata": {
        "colab": {
          "base_uri": "https://localhost:8080/",
          "height": 90
        },
        "id": "72ueT2LRaugh",
        "outputId": "f29073b4-d4c1-4e8f-c2dd-65604b092ee6"
      },
      "execution_count": 21,
      "outputs": [
        {
          "output_type": "execute_result",
          "data": {
            "text/plain": [
              "\"\\nepochs = 5\\nsteps_per_epoch = num_of_classes\\nnum_train_steps = steps_per_epoch * epochs\\nnum_warmup_steps = int(0.1*num_train_steps)\\nprint(steps_per_epoch)\\n\\ninit_lr = 3e-5\\noptimizer = optimization.create_optimizer(init_lr=init_lr,\\n                                          num_train_steps=num_train_steps,\\n                                          num_warmup_steps=num_warmup_steps,                                          \\n                                          optimizer_type='adamw')\\n\""
            ],
            "application/vnd.google.colaboratory.intrinsic+json": {
              "type": "string"
            }
          },
          "metadata": {},
          "execution_count": 21
        }
      ]
    },
    {
      "cell_type": "code",
      "execution_count": 22,
      "metadata": {
        "id": "HaY8hZsDoxbb",
        "colab": {
          "base_uri": "https://localhost:8080/"
        },
        "outputId": "14e729c4-58fa-44de-81c6-9aee7bc084d8"
      },
      "outputs": [
        {
          "output_type": "stream",
          "name": "stdout",
          "text": [
            "Model: \"model\"\n",
            "__________________________________________________________________________________________________\n",
            " Layer (type)                   Output Shape         Param #     Connected to                     \n",
            "==================================================================================================\n",
            " text (InputLayer)              [(None,)]            0           []                               \n",
            "                                                                                                  \n",
            " preprocessing (KerasLayer)     {'input_type_ids':   0           ['text[0][0]']                   \n",
            "                                (None, 128),                                                      \n",
            "                                 'input_mask': (Non                                               \n",
            "                                e, 128),                                                          \n",
            "                                 'input_word_ids':                                                \n",
            "                                (None, 128)}                                                      \n",
            "                                                                                                  \n",
            " BERT_encoder (KerasLayer)      {'pooled_output': (  177853441   ['preprocessing[0][0]',          \n",
            "                                None, 768),                       'preprocessing[0][1]',          \n",
            "                                 'sequence_output':               'preprocessing[0][2]']          \n",
            "                                 (None, 128, 768),                                                \n",
            "                                 'encoder_outputs':                                               \n",
            "                                 [(None, 128, 768),                                               \n",
            "                                 (None, 128, 768),                                                \n",
            "                                 (None, 128, 768),                                                \n",
            "                                 (None, 128, 768),                                                \n",
            "                                 (None, 128, 768),                                                \n",
            "                                 (None, 128, 768),                                                \n",
            "                                 (None, 128, 768),                                                \n",
            "                                 (None, 128, 768),                                                \n",
            "                                 (None, 128, 768),                                                \n",
            "                                 (None, 128, 768),                                                \n",
            "                                 (None, 128, 768),                                                \n",
            "                                 (None, 128, 768)],                                               \n",
            "                                 'default': (None,                                                \n",
            "                                768)}                                                             \n",
            "                                                                                                  \n",
            " classifier (Dense)             (None, 18)           13842       ['BERT_encoder[0][13]']          \n",
            "                                                                                                  \n",
            "==================================================================================================\n",
            "Total params: 177,867,283\n",
            "Trainable params: 177,867,282\n",
            "Non-trainable params: 1\n",
            "__________________________________________________________________________________________________\n"
          ]
        }
      ],
      "source": [
        "from tensorflow.keras.optimizers import Adam\n",
        "classifier_model.compile(Adam(learning_rate=3e-5), loss = \"categorical_crossentropy\", metrics = [\"accuracy\"]) # learning_rate recommand from the paper\n",
        "classifier_model.summary()"
      ]
    },
    {
      "cell_type": "code",
      "execution_count": 33,
      "metadata": {
        "id": "Yi65M4eKY_bt",
        "colab": {
          "base_uri": "https://localhost:8080/"
        },
        "outputId": "477ea2f8-d568-49ef-ac99-447e87f26c95"
      },
      "outputs": [
        {
          "output_type": "stream",
          "name": "stdout",
          "text": [
            "Epoch 1/30\n",
            "1/1 [==============================] - 18s 18s/step - loss: 2.6279 - accuracy: 0.2667 - val_loss: 3.0006 - val_accuracy: 0.1667\n",
            "Epoch 2/30\n",
            "1/1 [==============================] - 17s 17s/step - loss: 2.4979 - accuracy: 0.4000 - val_loss: 3.0954 - val_accuracy: 0.1667\n",
            "Epoch 3/30\n",
            "1/1 [==============================] - 17s 17s/step - loss: 2.4503 - accuracy: 0.4000 - val_loss: 3.3006 - val_accuracy: 0.1667\n",
            "Epoch 4/30\n",
            "1/1 [==============================] - 18s 18s/step - loss: 2.1965 - accuracy: 0.4667 - val_loss: 3.4219 - val_accuracy: 0.1667\n",
            "Epoch 5/30\n",
            "1/1 [==============================] - 19s 19s/step - loss: 1.9465 - accuracy: 0.7333 - val_loss: 3.5469 - val_accuracy: 0.1667\n",
            "Epoch 6/30\n",
            "1/1 [==============================] - 18s 18s/step - loss: 1.7044 - accuracy: 0.8667 - val_loss: 3.5972 - val_accuracy: 0.1667\n",
            "Epoch 7/30\n",
            "1/1 [==============================] - 17s 17s/step - loss: 1.6349 - accuracy: 0.7333 - val_loss: 3.6882 - val_accuracy: 0.1667\n",
            "Epoch 8/30\n",
            "1/1 [==============================] - 17s 17s/step - loss: 1.4530 - accuracy: 0.8000 - val_loss: 3.7776 - val_accuracy: 0.1667\n",
            "Epoch 9/30\n",
            "1/1 [==============================] - 19s 19s/step - loss: 1.2217 - accuracy: 0.9333 - val_loss: 3.8129 - val_accuracy: 0.1667\n",
            "Epoch 10/30\n",
            "1/1 [==============================] - 18s 18s/step - loss: 1.0670 - accuracy: 1.0000 - val_loss: 3.8538 - val_accuracy: 0.1667\n",
            "Epoch 11/30\n",
            "1/1 [==============================] - 18s 18s/step - loss: 0.9358 - accuracy: 0.9333 - val_loss: 3.8932 - val_accuracy: 0.0000e+00\n",
            "Epoch 12/30\n",
            "1/1 [==============================] - 18s 18s/step - loss: 0.8329 - accuracy: 0.9333 - val_loss: 3.9208 - val_accuracy: 0.0000e+00\n",
            "Epoch 13/30\n",
            "1/1 [==============================] - 18s 18s/step - loss: 0.7107 - accuracy: 1.0000 - val_loss: 3.9489 - val_accuracy: 0.0000e+00\n",
            "Epoch 14/30\n",
            "1/1 [==============================] - 17s 17s/step - loss: 0.6574 - accuracy: 1.0000 - val_loss: 4.0181 - val_accuracy: 0.0000e+00\n",
            "Epoch 15/30\n",
            "1/1 [==============================] - 19s 19s/step - loss: 0.5166 - accuracy: 1.0000 - val_loss: 4.0877 - val_accuracy: 0.0000e+00\n",
            "Epoch 16/30\n",
            "1/1 [==============================] - 18s 18s/step - loss: 0.4944 - accuracy: 1.0000 - val_loss: 4.1370 - val_accuracy: 0.0000e+00\n",
            "Epoch 17/30\n",
            "1/1 [==============================] - 17s 17s/step - loss: 0.3897 - accuracy: 1.0000 - val_loss: 4.1591 - val_accuracy: 0.0000e+00\n",
            "Epoch 18/30\n",
            "1/1 [==============================] - 18s 18s/step - loss: 0.3334 - accuracy: 1.0000 - val_loss: 4.1646 - val_accuracy: 0.0000e+00\n",
            "Epoch 19/30\n",
            "1/1 [==============================] - 18s 18s/step - loss: 0.2791 - accuracy: 1.0000 - val_loss: 4.1802 - val_accuracy: 0.0000e+00\n",
            "Epoch 20/30\n",
            "1/1 [==============================] - 18s 18s/step - loss: 0.2851 - accuracy: 1.0000 - val_loss: 4.2135 - val_accuracy: 0.0000e+00\n",
            "Epoch 21/30\n",
            "1/1 [==============================] - 18s 18s/step - loss: 0.2375 - accuracy: 1.0000 - val_loss: 4.2535 - val_accuracy: 0.0000e+00\n",
            "Epoch 22/30\n",
            "1/1 [==============================] - 18s 18s/step - loss: 0.1886 - accuracy: 1.0000 - val_loss: 4.2969 - val_accuracy: 0.0000e+00\n",
            "Epoch 23/30\n",
            "1/1 [==============================] - 18s 18s/step - loss: 0.1752 - accuracy: 1.0000 - val_loss: 4.3386 - val_accuracy: 0.0000e+00\n",
            "Epoch 24/30\n",
            "1/1 [==============================] - 17s 17s/step - loss: 0.1487 - accuracy: 1.0000 - val_loss: 4.3743 - val_accuracy: 0.0000e+00\n",
            "Epoch 25/30\n",
            "1/1 [==============================] - 18s 18s/step - loss: 0.1462 - accuracy: 1.0000 - val_loss: 4.4106 - val_accuracy: 0.0000e+00\n",
            "Epoch 26/30\n",
            "1/1 [==============================] - 18s 18s/step - loss: 0.1355 - accuracy: 1.0000 - val_loss: 4.4450 - val_accuracy: 0.0000e+00\n",
            "Epoch 27/30\n",
            "1/1 [==============================] - 17s 17s/step - loss: 0.1088 - accuracy: 1.0000 - val_loss: 4.4778 - val_accuracy: 0.0000e+00\n",
            "Epoch 28/30\n",
            "1/1 [==============================] - 18s 18s/step - loss: 0.0962 - accuracy: 1.0000 - val_loss: 4.5074 - val_accuracy: 0.0000e+00\n",
            "Epoch 29/30\n",
            "1/1 [==============================] - 17s 17s/step - loss: 0.0810 - accuracy: 1.0000 - val_loss: 4.5312 - val_accuracy: 0.0000e+00\n",
            "Epoch 30/30\n",
            "1/1 [==============================] - 16s 16s/step - loss: 0.0805 - accuracy: 1.0000 - val_loss: 4.5517 - val_accuracy: 0.0000e+00\n"
          ]
        }
      ],
      "source": [
        "n_epochs = 30\n",
        "\n",
        "model_fit = classifier_model.fit(\n",
        "    x_train,\n",
        "    y_train,\n",
        "    epochs=n_epochs,\n",
        "    validation_data=(x_test, y_test),\n",
        "    verbose=1\n",
        ")\n"
      ]
    },
    {
      "cell_type": "code",
      "execution_count": 34,
      "metadata": {
        "id": "_nj8lteOKvKO",
        "colab": {
          "base_uri": "https://localhost:8080/"
        },
        "outputId": "eb65b4aa-322e-4982-eb50-a17ead6ca3ad"
      },
      "outputs": [
        {
          "output_type": "stream",
          "name": "stdout",
          "text": [
            "1/1 [==============================] - 0s 312ms/step\n",
            "Câu hỏi: Phòng có wifi không?\n",
            "Top ý định dự đoán:\n",
            " - ASK_AMENITY: 0.9830\n",
            " - ASK_COUNTRY: 0.0027\n",
            " - ASK_USER_PROFILE: 0.0019\n",
            " - ASK_LISTING_CAPACITY: 0.0016\n",
            " - ASK_REVIEW: 0.0013\n"
          ]
        }
      ],
      "source": [
        "import numpy as np\n",
        "\n",
        "# Câu hỏi tiếng Việt mẫu (bạn có thể thay đổi)\n",
        "user_input = [\"Phòng có wifi không?\"]\n",
        "\n",
        "# Dự đoán xác suất cho từng intent\n",
        "pred = classifier_model.predict(user_input)\n",
        "\n",
        "# Lấy top 5 intent có xác suất cao nhất\n",
        "top_n = 5\n",
        "top_n_indices = pred[0].argsort()[-top_n:][::-1]  # sắp xếp giảm dần\n",
        "\n",
        "# In kết quả\n",
        "print(\"Câu hỏi:\", user_input[0])\n",
        "print(\"Top ý định dự đoán:\")\n",
        "for i in top_n_indices:\n",
        "    intent = le.classes_[i]\n",
        "    score = pred[0][i]\n",
        "    print(f\" - {intent}: {score:.4f}\")\n"
      ]
    },
    {
      "cell_type": "code",
      "execution_count": 35,
      "metadata": {
        "id": "h-OQ8O1bN9gn",
        "colab": {
          "base_uri": "https://localhost:8080/"
        },
        "outputId": "b0cd4e64-9e39-4a46-c49d-5f3bfb4ce0f1"
      },
      "outputs": [
        {
          "output_type": "stream",
          "name": "stdout",
          "text": [
            "ASK_AMENITY 0.98298925\n",
            "ASK_COUNTRY 0.002654477\n",
            "ASK_USER_PROFILE 0.0019292827\n",
            "ASK_LISTING_CAPACITY 0.0015739561\n",
            "ASK_REVIEW 0.001338119\n"
          ]
        }
      ],
      "source": [
        "for label, score in zip(le.classes_[top_n_indices], pred[0][top_n_indices]):\n",
        "  print(str(label) + \" \"+ str(score))\n"
      ]
    },
    {
      "cell_type": "code",
      "source": [
        "import json\n",
        "\n",
        "# Mở file JSON sạch\n",
        "with open('/content/drive/MyDrive/PBL5/reply_vi_clean.json', encoding='utf-8') as f:\n",
        "    response = json.load(f)\n",
        "\n",
        "# Thử với intent hợp lệ\n",
        "intent = 'ASK_AMENITY'\n",
        "lang = 'vi'\n",
        "\n",
        "if intent in response and lang in response[intent]:\n",
        "    print(response[intent][lang][0])\n",
        "else:\n",
        "    print(f\"[Không tìm thấy phản hồi cho intent '{intent}']\")\n"
      ],
      "metadata": {
        "colab": {
          "base_uri": "https://localhost:8080/"
        },
        "id": "st7TbZpo1Y0E",
        "outputId": "d4b54287-a63f-4668-9352-a23b50621e31"
      },
      "execution_count": 36,
      "outputs": [
        {
          "output_type": "stream",
          "name": "stdout",
          "text": [
            "Dạ có, tất cả phòng đều có wifi miễn phí.\n"
          ]
        }
      ]
    },
    {
      "cell_type": "code",
      "source": [
        "import numpy as np\n",
        "\n",
        "print(\"response language: vi\\n\")\n",
        "lang = 'vi'  # chỉ dùng tiếng Việt\n",
        "query = [\"Phòng có wifi không?\", \"Homestay có máy giặt không?\", \"Giá một đêm bao nhiêu?\", \"Tôi muốn đặt phòng\", \"Tôi quên mật khẩu\"]\n",
        "\n",
        "predictions = classifier_model.predict(query)\n",
        "\n",
        "for i, pred in enumerate(predictions):\n",
        "    predicted_intent = le.classes_[pred.argsort()[::-1][0]]\n",
        "    reply_list = response.get(predicted_intent, {}).get(lang, [])\n",
        "\n",
        "    print(f\"Query: {query[i]}\")\n",
        "    if reply_list:\n",
        "        print(f\"Response: {reply_list[0]} [Intention predicted: {predicted_intent}]\\n\")\n",
        "    else:\n",
        "        print(f\"Response: [Không tìm thấy phản hồi phù hợp cho intent {predicted_intent}]\\n\")\n"
      ],
      "metadata": {
        "colab": {
          "base_uri": "https://localhost:8080/"
        },
        "id": "XD2TsAcRSELo",
        "outputId": "56602260-007a-4b6e-e393-a50c83cc51fe"
      },
      "execution_count": 37,
      "outputs": [
        {
          "output_type": "stream",
          "name": "stdout",
          "text": [
            "response language: vi\n",
            "\n",
            "1/1 [==============================] - 1s 1s/step\n",
            "Query: Phòng có wifi không?\n",
            "Response: Dạ có, tất cả phòng đều có wifi miễn phí. [Intention predicted: ASK_AMENITY]\n",
            "\n",
            "Query: Homestay có máy giặt không?\n",
            "Response: Hiện tại RestNest tập trung tại thị trường Việt Nam. [Intention predicted: ASK_COUNTRY]\n",
            "\n",
            "Query: Giá một đêm bao nhiêu?\n",
            "Response: Dạ có, tất cả phòng đều có wifi miễn phí. [Intention predicted: ASK_AMENITY]\n",
            "\n",
            "Query: Tôi muốn đặt phòng\n",
            "Response: Dạ có, mỗi homestay đều có ảnh minh họa rõ ràng. [Intention predicted: ASK_IMAGE]\n",
            "\n",
            "Query: Tôi quên mật khẩu\n",
            "Response: Trong mục 'Yêu thích' ở tài khoản cá nhân. [Intention predicted: ASK_FAVORITE_VIEW]\n",
            "\n"
          ]
        }
      ]
    },
    {
      "cell_type": "code",
      "source": [
        "print(\"response language: zh\\n\")\n",
        "lang = 'zh'\n",
        "query = [\"你好!\", \"hello\", \"琴日入完tqqq 今日即跌\", \"你辦公時間是甚麼?\", \"you perform bad\"]\n",
        "\n",
        "predictions = classifier_model.predict(query)\n",
        "for i, pred in enumerate(predictions):\n",
        "  predictedIntent = le.classes_[pred.argsort()[::-1][0]]\n",
        "  print(\"Query: {}\".format(query[i]))\n",
        "  print(\"Response: {} [Intention predicted: {}]\".format(response.get(predictedIntent)[0][lang], predictedIntent))"
      ],
      "metadata": {
        "colab": {
          "base_uri": "https://localhost:8080/"
        },
        "id": "OrWgpTiX3dAk",
        "outputId": "6f8a3f13-3f96-4856-f2af-0d517d5c7a58"
      },
      "execution_count": null,
      "outputs": [
        {
          "output_type": "stream",
          "name": "stdout",
          "text": [
            "response language: zh\n",
            "\n",
            "Query: 你好!\n",
            "Response: 你好呀，今日過成點? [Intention predicted: GREETINGS]\n",
            "Query: hello\n",
            "Response: 你好呀，今日過成點? [Intention predicted: GREETINGS]\n",
            "Query: 琴日入完tqqq 今日即跌\n",
            "Response: 我美股豬咗好多錢吖，我之後可能冇錢去俾AWS EC2 租金添，話唔定你之後會見我唔到啦。 [Intention predicted: INVESTMENT]\n",
            "Query: 你辦公時間是甚麼?\n",
            "Response: 只要個server 仲行緊，咁我就會7/24 返工嘅，所以你幾時揾我都得。 [Intention predicted: OFFICE_HOUR]\n",
            "Query: you perform bad\n",
            "Response: 真係唔好意思，我知我仲未夠醒目，可能我遲啲有多啲training data會再聰明啲。 [Intention predicted: APPRAISAL_BAD]\n"
          ]
        }
      ]
    },
    {
      "cell_type": "code",
      "source": [
        "print(\"response language: fr\\n\")\n",
        "lang = 'fr'\n",
        "query = [\"你好!\", \"hello\", \"琴日入完tqqq 今日即跌\", \"你辦公時間是甚麼?\", \"you perform bad\"]\n",
        "\n",
        "predictions = classifier_model.predict(query)\n",
        "for i, pred in enumerate(predictions):\n",
        "  predictedIntent = le.classes_[pred.argsort()[::-1][0]]\n",
        "  print(\"Query: {}\".format(query[i]))\n",
        "  print(\"Response: {} [Intention predicted: {}]\".format(response.get(predictedIntent)[0][lang], predictedIntent))"
      ],
      "metadata": {
        "colab": {
          "base_uri": "https://localhost:8080/"
        },
        "id": "UIdvHQSw3dKu",
        "outputId": "b6a8b78f-b9d0-4e09-b770-7ff72952948d"
      },
      "execution_count": null,
      "outputs": [
        {
          "output_type": "stream",
          "name": "stdout",
          "text": [
            "response language: fr\n",
            "\n",
            "Query: 你好!\n",
            "Response: Salut, comment est votre journée ? [Intention predicted: GREETINGS]\n",
            "Query: hello\n",
            "Response: Salut, comment est votre journée ? [Intention predicted: GREETINGS]\n",
            "Query: 琴日入完tqqq 今日即跌\n",
            "Response: J'ai perdu beaucoup de stock, plus tôt je n'aurai même pas d'argent pour payer les frais de retour sur AWS EC2... Ce qui signifie que vous ne pourrez plus me joindre plus tard. [Intention predicted: INVESTMENT]\n",
            "Query: 你辦公時間是甚麼?\n",
            "Response: Si le serveur tourne, je travaille 7/24. Alors rendez-moi quand tu es libre. [Intention predicted: OFFICE_HOUR]\n",
            "Query: you perform bad\n",
            "Response: Désolé désolé, je sais que je ne suis pas assez intelligent. Peut-être que je m'améliorerai à l'avenir avec plus de données d'entraînement. [Intention predicted: APPRAISAL_BAD]\n"
          ]
        }
      ]
    },
    {
      "cell_type": "code",
      "execution_count": null,
      "metadata": {
        "id": "Fa57Oh_8BdIR",
        "colab": {
          "base_uri": "https://localhost:8080/"
        },
        "outputId": "c99ce99b-df9b-452c-c08b-d0e595120ef0"
      },
      "outputs": [
        {
          "output_type": "stream",
          "name": "stderr",
          "text": [
            "WARNING:absl:Found untraced functions such as restored_function_body, restored_function_body, restored_function_body, restored_function_body, restored_function_body while saving (showing 5 of 366). These functions will not be directly callable after loading.\n"
          ]
        },
        {
          "output_type": "stream",
          "name": "stdout",
          "text": [
            "'/content/saved_model' -> '/gdrive/MyDrive/bert-chatbot/model/1/saved_model'\n",
            "'/content/saved_model/saved_model.pb' -> '/gdrive/MyDrive/bert-chatbot/model/1/saved_model/saved_model.pb'\n",
            "'/content/saved_model/variables' -> '/gdrive/MyDrive/bert-chatbot/model/1/saved_model/variables'\n",
            "'/content/saved_model/variables/variables.index' -> '/gdrive/MyDrive/bert-chatbot/model/1/saved_model/variables/variables.index'\n",
            "'/content/saved_model/variables/variables.data-00000-of-00001' -> '/gdrive/MyDrive/bert-chatbot/model/1/saved_model/variables/variables.data-00000-of-00001'\n",
            "'/content/saved_model/assets' -> '/gdrive/MyDrive/bert-chatbot/model/1/saved_model/assets'\n",
            "'/content/saved_model/assets/vocab.txt' -> '/gdrive/MyDrive/bert-chatbot/model/1/saved_model/assets/vocab.txt'\n"
          ]
        }
      ],
      "source": [
        "# copy model to drive\n",
        "export_dir='./saved_model/'\n",
        "model_version = os.getenv(\"MODEL_VERSION\")\n",
        "tf.saved_model.save(classifier_model, export_dir=export_dir)\n",
        "%cp -av /content/saved_model /gdrive/MyDrive/bert-chatbot/model/{model_version}"
      ]
    },
    {
      "cell_type": "code",
      "source": [
        "'''\n",
        "import boto3\n",
        "\n",
        "session = boto3.Session(\n",
        "    aws_access_key_id= os.getenv(\"AWS_ACCESS_KEY_ID\"),\n",
        "    aws_secret_access_key=os.getenv(\"AWS_SECRET_ACCESS_KEY_ID\"),\n",
        "    region_name=os.getenv(\"AWS_REGION_NAME\")\n",
        ")\n",
        "s3 = session.resource('s3')\n",
        "bucket = s3.Bucket(os.getenv(\"AWS_BUCKET_NAME\"))\n",
        "\n",
        "\n",
        "path = \"./saved_model\"\n",
        "for subdir, dirs, files in os.walk(path):\n",
        "    for file in files:\n",
        "        full_path = os.path.join(subdir, file)\n",
        "        with open(full_path, 'rb') as data:\n",
        "            bucket.put_object(Key=\"saved_model_bert/\" + os.getenv(\"MODEL_VERSION\") + \"/\" + full_path[len(path)+1:], Body=data)\n",
        "'''"
      ],
      "metadata": {
        "id": "NnOZz4Ip80xE",
        "colab": {
          "base_uri": "https://localhost:8080/",
          "height": 87
        },
        "outputId": "92e97df5-5483-47fb-ca82-22835d148655"
      },
      "execution_count": null,
      "outputs": [
        {
          "output_type": "execute_result",
          "data": {
            "text/plain": [
              "'\\nimport boto3\\n\\nsession = boto3.Session(\\n    aws_access_key_id= os.getenv(\"AWS_ACCESS_KEY_ID\"),\\n    aws_secret_access_key=os.getenv(\"AWS_SECRET_ACCESS_KEY_ID\"),\\n    region_name=os.getenv(\"AWS_REGION_NAME\")\\n)\\ns3 = session.resource(\\'s3\\')\\nbucket = s3.Bucket(os.getenv(\"AWS_BUCKET_NAME\"))\\n\\n\\npath = \"./saved_model\"\\nfor subdir, dirs, files in os.walk(path):\\n    for file in files:\\n        full_path = os.path.join(subdir, file)\\n        with open(full_path, \\'rb\\') as data:\\n            bucket.put_object(Key=\"saved_model_bert/\" + os.getenv(\"MODEL_VERSION\") + \"/\" + full_path[len(path)+1:], Body=data)\\n'"
            ],
            "application/vnd.google.colaboratory.intrinsic+json": {
              "type": "string"
            }
          },
          "metadata": {},
          "execution_count": 26
        }
      ]
    }
  ],
  "metadata": {
    "accelerator": "GPU",
    "colab": {
      "provenance": [],
      "gpuType": "T4"
    },
    "kernelspec": {
      "display_name": "Python 3",
      "name": "python3"
    },
    "language_info": {
      "name": "python"
    }
  },
  "nbformat": 4,
  "nbformat_minor": 0
}