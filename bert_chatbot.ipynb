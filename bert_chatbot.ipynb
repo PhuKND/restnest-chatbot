{
  "cells": [
    {
      "cell_type": "markdown",
      "metadata": {
        "id": "krb3BON-XjKm"
      },
      "source": [
        "referencing:\n",
        "\n",
        "https://towardsdatascience.com/multi-label-text-classification-using-bert-and-tensorflow-d2e88d8f488d\n"
      ]
    },
    {
      "cell_type": "code",
      "source": [
        "from google.colab import drive\n",
        "drive.mount('/content/drive')"
      ],
      "metadata": {
        "id": "5zSdIWRYMNv9",
        "outputId": "c172dec8-45f0-4658-9886-f3b92b816f0c",
        "colab": {
          "base_uri": "https://localhost:8080/"
        }
      },
      "execution_count": 17,
      "outputs": [
        {
          "output_type": "stream",
          "name": "stdout",
          "text": [
            "Drive already mounted at /content/drive; to attempt to forcibly remount, call drive.mount(\"/content/drive\", force_remount=True).\n"
          ]
        }
      ]
    },
    {
      "cell_type": "code",
      "source": [
        "%env AWS_ACCESS_KEY_ID=\"\"\n",
        "%env AWS_SECRET_ACCESS_KEY_ID=\"\"\n",
        "%env AWS_REGION_NAME=\"\"\n",
        "%env AWS_BUCKET_NAME=\"\"\n",
        "\n",
        "%env MODEL_VERSION=1"
      ],
      "metadata": {
        "colab": {
          "base_uri": "https://localhost:8080/"
        },
        "id": "ghBJ0KCx8jv-",
        "outputId": "b5ae2b71-df03-4b92-f528-1c238eaa111f"
      },
      "execution_count": 15,
      "outputs": [
        {
          "output_type": "stream",
          "name": "stdout",
          "text": [
            "env: AWS_ACCESS_KEY_ID=\"\"\n",
            "env: AWS_SECRET_ACCESS_KEY_ID=\"\"\n",
            "env: AWS_REGION_NAME=\"\"\n",
            "env: AWS_BUCKET_NAME=\"\"\n",
            "env: MODEL_VERSION=1\n"
          ]
        }
      ]
    },
    {
      "cell_type": "code",
      "source": [
        "# cmd to check gpu process\n",
        "!nvidia-smi"
      ],
      "metadata": {
        "colab": {
          "base_uri": "https://localhost:8080/"
        },
        "id": "eMRkvNSsULmB",
        "outputId": "34d2a564-8020-473f-ff75-4348c209d055"
      },
      "execution_count": null,
      "outputs": [
        {
          "output_type": "stream",
          "name": "stdout",
          "text": [
            "Sun Sep 11 09:40:12 2022       \n",
            "+-----------------------------------------------------------------------------+\n",
            "| NVIDIA-SMI 460.32.03    Driver Version: 460.32.03    CUDA Version: 11.2     |\n",
            "|-------------------------------+----------------------+----------------------+\n",
            "| GPU  Name        Persistence-M| Bus-Id        Disp.A | Volatile Uncorr. ECC |\n",
            "| Fan  Temp  Perf  Pwr:Usage/Cap|         Memory-Usage | GPU-Util  Compute M. |\n",
            "|                               |                      |               MIG M. |\n",
            "|===============================+======================+======================|\n",
            "|   0  Tesla T4            Off  | 00000000:00:04.0 Off |                    0 |\n",
            "| N/A   47C    P8    10W /  70W |      0MiB / 15109MiB |      0%      Default |\n",
            "|                               |                      |                  N/A |\n",
            "+-------------------------------+----------------------+----------------------+\n",
            "                                                                               \n",
            "+-----------------------------------------------------------------------------+\n",
            "| Processes:                                                                  |\n",
            "|  GPU   GI   CI        PID   Type   Process name                  GPU Memory |\n",
            "|        ID   ID                                                   Usage      |\n",
            "|=============================================================================|\n",
            "|  No running processes found                                                 |\n",
            "+-----------------------------------------------------------------------------+\n"
          ]
        }
      ]
    },
    {
      "cell_type": "code",
      "execution_count": 18,
      "metadata": {
        "id": "HVvkd34hJBuL",
        "outputId": "c60d9caa-813b-4d77-e485-88e0c61534b9",
        "colab": {
          "base_uri": "https://localhost:8080/"
        }
      },
      "outputs": [
        {
          "output_type": "stream",
          "name": "stdout",
          "text": [
            "\u001b[31mERROR: Could not find a version that satisfies the requirement tensorflow-text==2.8.* (from versions: 2.12.0rc0, 2.12.0, 2.12.1, 2.13.0rc0, 2.14.0rc0, 2.14.0, 2.15.0rc0, 2.15.0, 2.16.0rc0, 2.16.1, 2.17.0rc0, 2.17.0, 2.18.0rc0, 2.18.0, 2.18.1, 2.19.0rc0, 2.19.0)\u001b[0m\u001b[31m\n",
            "\u001b[0m\u001b[31mERROR: No matching distribution found for tensorflow-text==2.8.*\u001b[0m\u001b[31m\n",
            "\u001b[0m"
          ]
        }
      ],
      "source": [
        "# A dependency of the preprocessing for BERT inputs\n",
        "!pip install tensorflow-text==2.12.0"
      ]
    },
    {
      "cell_type": "code",
      "execution_count": null,
      "metadata": {
        "id": "kC5UIHQhJMbM"
      },
      "outputs": [],
      "source": [
        "!pip install -q tf-models-official==2.7.0"
      ]
    },
    {
      "cell_type": "code",
      "source": [
        "!pip install boto3"
      ],
      "metadata": {
        "colab": {
          "base_uri": "https://localhost:8080/"
        },
        "id": "Y0gbuNrh9O1g",
        "outputId": "4a4104e6-4a43-41fa-f740-3fef7291988d"
      },
      "execution_count": null,
      "outputs": [
        {
          "output_type": "stream",
          "name": "stdout",
          "text": [
            "Looking in indexes: https://pypi.org/simple, https://us-python.pkg.dev/colab-wheels/public/simple/\n",
            "Requirement already satisfied: boto3 in /usr/local/lib/python3.7/dist-packages (1.24.70)\n",
            "Requirement already satisfied: jmespath<2.0.0,>=0.7.1 in /usr/local/lib/python3.7/dist-packages (from boto3) (1.0.1)\n",
            "Requirement already satisfied: botocore<1.28.0,>=1.27.70 in /usr/local/lib/python3.7/dist-packages (from boto3) (1.27.70)\n",
            "Requirement already satisfied: s3transfer<0.7.0,>=0.6.0 in /usr/local/lib/python3.7/dist-packages (from boto3) (0.6.0)\n",
            "Requirement already satisfied: urllib3<1.27,>=1.25.4 in /usr/local/lib/python3.7/dist-packages (from botocore<1.28.0,>=1.27.70->boto3) (1.25.11)\n",
            "Requirement already satisfied: python-dateutil<3.0.0,>=2.1 in /usr/local/lib/python3.7/dist-packages (from botocore<1.28.0,>=1.27.70->boto3) (2.8.2)\n",
            "Requirement already satisfied: six>=1.5 in /usr/local/lib/python3.7/dist-packages (from python-dateutil<3.0.0,>=2.1->botocore<1.28.0,>=1.27.70->boto3) (1.15.0)\n"
          ]
        }
      ]
    },
    {
      "cell_type": "code",
      "execution_count": null,
      "metadata": {
        "id": "PGwkTxHNJOFw"
      },
      "outputs": [],
      "source": [
        "import os\n",
        "import shutil\n",
        "\n",
        "import tensorflow as tf\n",
        "import tensorflow_hub as hub\n",
        "import tensorflow_text as text\n",
        "from official.nlp import optimization  # to create AdamW optimizer\n",
        "\n",
        "import matplotlib.pyplot as plt\n",
        "\n",
        "tf.get_logger().setLevel('ERROR')"
      ]
    },
    {
      "cell_type": "code",
      "execution_count": null,
      "metadata": {
        "colab": {
          "base_uri": "https://localhost:8080/"
        },
        "id": "Prt7l7lQTywk",
        "outputId": "fd5c66b6-309f-4fe7-f5a4-9e6027be2e3c"
      },
      "outputs": [
        {
          "output_type": "stream",
          "name": "stdout",
          "text": [
            "Mounted at /gdrive\n"
          ]
        }
      ],
      "source": [
        "from google.colab import drive\n",
        "drive.mount('/gdrive', force_remount=True)"
      ]
    },
    {
      "cell_type": "code",
      "execution_count": null,
      "metadata": {
        "id": "HX9C80DKTcmF",
        "colab": {
          "base_uri": "https://localhost:8080/",
          "height": 528
        },
        "outputId": "528a9b72-55f3-44ab-b7a1-77dc02ce166b"
      },
      "outputs": [
        {
          "output_type": "stream",
          "name": "stdout",
          "text": [
            "1638\n",
            "['ADDRESS' 'AGE' 'APPRAISAL_BAD' 'APPRAISAL_COMPLAIN' 'APPRAISAL_GOOD'\n",
            " 'APPRAISAL_LIKE_BOT' 'APPRAISAL_THANK_YOU' 'ASK_FOR_HELP'\n",
            " 'ASK_FOR_REAL_PERSON' 'BOT_FUNCTIONS' 'BOT_NAME' 'BOT_NOT_UNDERSTAND'\n",
            " 'CHITCHAT' 'GENDER' 'GREETINGS' 'GREETINGS_BYE' 'INAPPROPRIATE_ACTION'\n",
            " 'INVESTMENT' 'OFFICE_HOUR' 'USER_EMOTIONS' 'USER_NOT_UNDERSTAND']\n"
          ]
        },
        {
          "output_type": "execute_result",
          "data": {
            "text/plain": [
              "          intent                                       text\n",
              "0         GENDER                              Are you woman\n",
              "1         GENDER                             are you a boy?\n",
              "2         GENDER                             Are you female\n",
              "3         GENDER                                  想知你係男定係女?\n",
              "4         GENDER                                     你係咪女仔？\n",
              "...          ...                                        ...\n",
              "5926  INVESTMENT                              琴日入完tqqq 今日即跌\n",
              "5927  INVESTMENT                                    熊軍會戰勝歸來\n",
              "5928  INVESTMENT                            有時燈呢家野 真係唔到自己唔信\n",
              "5929  INVESTMENT                       今晚呢啲時候真係唔係入貨嘅時間，上落太大\n",
              "5930  INVESTMENT  呢期個走勢就好似前年大牛市咁，升四五日跌一兩日，一升就升兩三個點，跌就跌得果零點幾\n",
              "\n",
              "[1638 rows x 2 columns]"
            ],
            "text/html": [
              "\n",
              "  <div id=\"df-d8930fb4-7e7b-4fa8-8f52-dd708196b84c\">\n",
              "    <div class=\"colab-df-container\">\n",
              "      <div>\n",
              "<style scoped>\n",
              "    .dataframe tbody tr th:only-of-type {\n",
              "        vertical-align: middle;\n",
              "    }\n",
              "\n",
              "    .dataframe tbody tr th {\n",
              "        vertical-align: top;\n",
              "    }\n",
              "\n",
              "    .dataframe thead th {\n",
              "        text-align: right;\n",
              "    }\n",
              "</style>\n",
              "<table border=\"1\" class=\"dataframe\">\n",
              "  <thead>\n",
              "    <tr style=\"text-align: right;\">\n",
              "      <th></th>\n",
              "      <th>intent</th>\n",
              "      <th>text</th>\n",
              "    </tr>\n",
              "  </thead>\n",
              "  <tbody>\n",
              "    <tr>\n",
              "      <th>0</th>\n",
              "      <td>GENDER</td>\n",
              "      <td>Are you woman</td>\n",
              "    </tr>\n",
              "    <tr>\n",
              "      <th>1</th>\n",
              "      <td>GENDER</td>\n",
              "      <td>are you a boy?</td>\n",
              "    </tr>\n",
              "    <tr>\n",
              "      <th>2</th>\n",
              "      <td>GENDER</td>\n",
              "      <td>Are you female</td>\n",
              "    </tr>\n",
              "    <tr>\n",
              "      <th>3</th>\n",
              "      <td>GENDER</td>\n",
              "      <td>想知你係男定係女?</td>\n",
              "    </tr>\n",
              "    <tr>\n",
              "      <th>4</th>\n",
              "      <td>GENDER</td>\n",
              "      <td>你係咪女仔？</td>\n",
              "    </tr>\n",
              "    <tr>\n",
              "      <th>...</th>\n",
              "      <td>...</td>\n",
              "      <td>...</td>\n",
              "    </tr>\n",
              "    <tr>\n",
              "      <th>5926</th>\n",
              "      <td>INVESTMENT</td>\n",
              "      <td>琴日入完tqqq 今日即跌</td>\n",
              "    </tr>\n",
              "    <tr>\n",
              "      <th>5927</th>\n",
              "      <td>INVESTMENT</td>\n",
              "      <td>熊軍會戰勝歸來</td>\n",
              "    </tr>\n",
              "    <tr>\n",
              "      <th>5928</th>\n",
              "      <td>INVESTMENT</td>\n",
              "      <td>有時燈呢家野 真係唔到自己唔信</td>\n",
              "    </tr>\n",
              "    <tr>\n",
              "      <th>5929</th>\n",
              "      <td>INVESTMENT</td>\n",
              "      <td>今晚呢啲時候真係唔係入貨嘅時間，上落太大</td>\n",
              "    </tr>\n",
              "    <tr>\n",
              "      <th>5930</th>\n",
              "      <td>INVESTMENT</td>\n",
              "      <td>呢期個走勢就好似前年大牛市咁，升四五日跌一兩日，一升就升兩三個點，跌就跌得果零點幾</td>\n",
              "    </tr>\n",
              "  </tbody>\n",
              "</table>\n",
              "<p>1638 rows × 2 columns</p>\n",
              "</div>\n",
              "      <button class=\"colab-df-convert\" onclick=\"convertToInteractive('df-d8930fb4-7e7b-4fa8-8f52-dd708196b84c')\"\n",
              "              title=\"Convert this dataframe to an interactive table.\"\n",
              "              style=\"display:none;\">\n",
              "        \n",
              "  <svg xmlns=\"http://www.w3.org/2000/svg\" height=\"24px\"viewBox=\"0 0 24 24\"\n",
              "       width=\"24px\">\n",
              "    <path d=\"M0 0h24v24H0V0z\" fill=\"none\"/>\n",
              "    <path d=\"M18.56 5.44l.94 2.06.94-2.06 2.06-.94-2.06-.94-.94-2.06-.94 2.06-2.06.94zm-11 1L8.5 8.5l.94-2.06 2.06-.94-2.06-.94L8.5 2.5l-.94 2.06-2.06.94zm10 10l.94 2.06.94-2.06 2.06-.94-2.06-.94-.94-2.06-.94 2.06-2.06.94z\"/><path d=\"M17.41 7.96l-1.37-1.37c-.4-.4-.92-.59-1.43-.59-.52 0-1.04.2-1.43.59L10.3 9.45l-7.72 7.72c-.78.78-.78 2.05 0 2.83L4 21.41c.39.39.9.59 1.41.59.51 0 1.02-.2 1.41-.59l7.78-7.78 2.81-2.81c.8-.78.8-2.07 0-2.86zM5.41 20L4 18.59l7.72-7.72 1.47 1.35L5.41 20z\"/>\n",
              "  </svg>\n",
              "      </button>\n",
              "      \n",
              "  <style>\n",
              "    .colab-df-container {\n",
              "      display:flex;\n",
              "      flex-wrap:wrap;\n",
              "      gap: 12px;\n",
              "    }\n",
              "\n",
              "    .colab-df-convert {\n",
              "      background-color: #E8F0FE;\n",
              "      border: none;\n",
              "      border-radius: 50%;\n",
              "      cursor: pointer;\n",
              "      display: none;\n",
              "      fill: #1967D2;\n",
              "      height: 32px;\n",
              "      padding: 0 0 0 0;\n",
              "      width: 32px;\n",
              "    }\n",
              "\n",
              "    .colab-df-convert:hover {\n",
              "      background-color: #E2EBFA;\n",
              "      box-shadow: 0px 1px 2px rgba(60, 64, 67, 0.3), 0px 1px 3px 1px rgba(60, 64, 67, 0.15);\n",
              "      fill: #174EA6;\n",
              "    }\n",
              "\n",
              "    [theme=dark] .colab-df-convert {\n",
              "      background-color: #3B4455;\n",
              "      fill: #D2E3FC;\n",
              "    }\n",
              "\n",
              "    [theme=dark] .colab-df-convert:hover {\n",
              "      background-color: #434B5C;\n",
              "      box-shadow: 0px 1px 3px 1px rgba(0, 0, 0, 0.15);\n",
              "      filter: drop-shadow(0px 1px 2px rgba(0, 0, 0, 0.3));\n",
              "      fill: #FFFFFF;\n",
              "    }\n",
              "  </style>\n",
              "\n",
              "      <script>\n",
              "        const buttonEl =\n",
              "          document.querySelector('#df-d8930fb4-7e7b-4fa8-8f52-dd708196b84c button.colab-df-convert');\n",
              "        buttonEl.style.display =\n",
              "          google.colab.kernel.accessAllowed ? 'block' : 'none';\n",
              "\n",
              "        async function convertToInteractive(key) {\n",
              "          const element = document.querySelector('#df-d8930fb4-7e7b-4fa8-8f52-dd708196b84c');\n",
              "          const dataTable =\n",
              "            await google.colab.kernel.invokeFunction('convertToInteractive',\n",
              "                                                     [key], {});\n",
              "          if (!dataTable) return;\n",
              "\n",
              "          const docLinkHtml = 'Like what you see? Visit the ' +\n",
              "            '<a target=\"_blank\" href=https://colab.research.google.com/notebooks/data_table.ipynb>data table notebook</a>'\n",
              "            + ' to learn more about interactive tables.';\n",
              "          element.innerHTML = '';\n",
              "          dataTable['output_type'] = 'display_data';\n",
              "          await google.colab.output.renderOutput(dataTable, element);\n",
              "          const docLink = document.createElement('div');\n",
              "          docLink.innerHTML = docLinkHtml;\n",
              "          element.appendChild(docLink);\n",
              "        }\n",
              "      </script>\n",
              "    </div>\n",
              "  </div>\n",
              "  "
            ]
          },
          "metadata": {},
          "execution_count": 8
        }
      ],
      "source": [
        "import pandas as pd\n",
        "\n",
        "data = pd.read_csv('../gdrive/MyDrive/bert-chatbot/sample.csv')\n",
        "\n",
        "data = data[data['intent']!='FALLBACK']\n",
        "data = data[data['intent']!='FORBIDDEN']\n",
        "data = data[~data['intent'].str.startswith(\"OTHERS_\")]\n",
        "\n",
        "df = pd.DataFrame(data)\n",
        "\n",
        "from sklearn import preprocessing\n",
        "le = preprocessing.LabelEncoder()\n",
        "le.fit(df['intent'])\n",
        "\n",
        "num_of_classes = len(le.classes_)\n",
        "\n",
        "from sklearn.model_selection import train_test_split\n",
        "y = tf.keras.utils.to_categorical(le.transform(df[\"intent\"]))\n",
        "x_train, x_test, y_train, y_test = train_test_split(df['text'], y, test_size=0.25)\n",
        "\n",
        "\n",
        "print(len(df))\n",
        "print(le.classes_)\n",
        "df"
      ]
    },
    {
      "cell_type": "code",
      "execution_count": null,
      "metadata": {
        "colab": {
          "base_uri": "https://localhost:8080/"
        },
        "id": "iAXXUfOzaXLZ",
        "outputId": "b7d59893-49b3-46aa-f938-ae72d8e32b01"
      },
      "outputs": [
        {
          "output_type": "stream",
          "name": "stdout",
          "text": [
            "BERT model selected           : https://tfhub.dev/tensorflow/bert_multi_cased_L-12_H-768_A-12/4\n",
            "Preprocess model auto-selected: https://tfhub.dev/tensorflow/bert_multi_cased_preprocess/3\n"
          ]
        }
      ],
      "source": [
        "tfhub_handle_encoder = \"https://tfhub.dev/tensorflow/bert_multi_cased_L-12_H-768_A-12/4\"\n",
        "tfhub_handle_preprocess = \"https://tfhub.dev/tensorflow/bert_multi_cased_preprocess/3\"\n",
        "\n",
        "# only chinese model\n",
        "#tfhub_handle_encoder = \"https://tfhub.dev/tensorflow/bert_zh_L-12_H-768_A-12/4\"\n",
        "#tfhub_handle_preprocess = \"https://tfhub.dev/tensorflow/bert_zh_preprocess/3\"\n",
        "\n",
        "\n",
        "print(f'BERT model selected           : {tfhub_handle_encoder}')\n",
        "print(f'Preprocess model auto-selected: {tfhub_handle_preprocess}')"
      ]
    },
    {
      "cell_type": "code",
      "execution_count": null,
      "metadata": {
        "id": "Q0LJw_VIajNP"
      },
      "outputs": [],
      "source": [
        "bert_preprocess_model = hub.KerasLayer(tfhub_handle_preprocess)"
      ]
    },
    {
      "cell_type": "code",
      "execution_count": null,
      "metadata": {
        "colab": {
          "base_uri": "https://localhost:8080/"
        },
        "id": "hBH_lpFcbqfQ",
        "outputId": "77e12839-3a96-4561-efd2-88fe106dc00e"
      },
      "outputs": [
        {
          "output_type": "stream",
          "name": "stdout",
          "text": [
            "Keys       : ['input_word_ids', 'input_mask', 'input_type_ids']\n",
            "Shape      : (1, 128)\n",
            "Word Ids   : [  101 72894 10284   169   184   184   180   173   102     0     0     0]\n",
            "Input Mask : [1 1 1 1 1 1 1 1 1 0 0 0]\n",
            "Type Ids   : [0 0 0 0 0 0 0 0 0 0 0 0]\n"
          ]
        }
      ],
      "source": [
        "text_test = ['apple a p p l e']\n",
        "text_preprocessed = bert_preprocess_model(text_test)\n",
        "\n",
        "print(f'Keys       : {list(text_preprocessed.keys())}')\n",
        "print(f'Shape      : {text_preprocessed[\"input_word_ids\"].shape}')\n",
        "print(f'Word Ids   : {text_preprocessed[\"input_word_ids\"][0, :12]}')\n",
        "print(f'Input Mask : {text_preprocessed[\"input_mask\"][0, :12]}')\n",
        "print(f'Type Ids   : {text_preprocessed[\"input_type_ids\"][0, :12]}')"
      ]
    },
    {
      "cell_type": "code",
      "source": [
        "def build_classifier_model():\n",
        "  preprocessing_layer = hub.KerasLayer(tfhub_handle_preprocess, name='preprocessing')\n",
        "  encoder = hub.KerasLayer(tfhub_handle_encoder, trainable=True, name='BERT_encoder')\n",
        "\n",
        "  text_input = tf.keras.layers.Input(shape=(), dtype=tf.string, name='text')\n",
        "  encoder_inputs = preprocessing_layer(text_input)\n",
        "  outputs = encoder(encoder_inputs)\n",
        "  net = outputs['pooled_output']\n",
        "  # comment out dropout layer as we have underfitting\n",
        "  # net = tf.keras.layers.Dropout(0.1)(net)\n",
        "  net = tf.keras.layers.Dense(num_of_classes, activation='softmax', name='classifier')(net)\n",
        "  return tf.keras.Model(text_input, net)"
      ],
      "metadata": {
        "id": "1KHg3nZ37r55"
      },
      "execution_count": null,
      "outputs": []
    },
    {
      "cell_type": "code",
      "execution_count": null,
      "metadata": {
        "id": "Bp1aYuYDZ_kY",
        "colab": {
          "base_uri": "https://localhost:8080/",
          "height": 104
        },
        "outputId": "955078e9-104f-4355-d35c-6602c40e98ab"
      },
      "outputs": [
        {
          "output_type": "execute_result",
          "data": {
            "text/plain": [
              "\"\\ndef build_classifier_model():\\n  preprocessor = hub.load(tfhub_handle_preprocess)\\n  text_input = [tf.keras.layers.Input(shape=(), dtype=tf.string, name='text')]\\n  tokenize = hub.KerasLayer(preprocessor.tokenize)\\n  tokenized_inputs = [tokenize(segment) for segment in text_input]\\n  seq_length = 80  # Your choice here.\\n  bert_pack_inputs = hub.KerasLayer(\\n    preprocessor.bert_pack_inputs,\\n    arguments=dict(seq_length=seq_length), name='preprocessing') \\n  encoder_inputs = bert_pack_inputs(tokenized_inputs)\\n  encoder = hub.KerasLayer(tfhub_handle_encoder, trainable=True, name='BERT_encoder')\\n  outputs = encoder(encoder_inputs)\\n  net = outputs['pooled_output']\\n  #net = tf.keras.layers.Dropout(0.1)(net)\\n  net = tf.keras.layers.Dense(num_of_classes, activation='softmax', name='classifier')(net)\\n  return tf.keras.Model(text_input, net)\\n\""
            ],
            "application/vnd.google.colaboratory.intrinsic+json": {
              "type": "string"
            }
          },
          "metadata": {},
          "execution_count": 13
        }
      ],
      "source": [
        "# custom sequence length\n",
        "\"\"\"\n",
        "def build_classifier_model():\n",
        "  preprocessor = hub.load(tfhub_handle_preprocess)\n",
        "  text_input = [tf.keras.layers.Input(shape=(), dtype=tf.string, name='text')]\n",
        "  tokenize = hub.KerasLayer(preprocessor.tokenize)\n",
        "  tokenized_inputs = [tokenize(segment) for segment in text_input]\n",
        "  seq_length = 80  # Your choice here.\n",
        "  bert_pack_inputs = hub.KerasLayer(\n",
        "    preprocessor.bert_pack_inputs,\n",
        "    arguments=dict(seq_length=seq_length), name='preprocessing')\n",
        "  encoder_inputs = bert_pack_inputs(tokenized_inputs)\n",
        "  encoder = hub.KerasLayer(tfhub_handle_encoder, trainable=True, name='BERT_encoder')\n",
        "  outputs = encoder(encoder_inputs)\n",
        "  net = outputs['pooled_output']\n",
        "  #net = tf.keras.layers.Dropout(0.1)(net)\n",
        "  net = tf.keras.layers.Dense(num_of_classes, activation='softmax', name='classifier')(net)\n",
        "  return tf.keras.Model(text_input, net)\n",
        "\"\"\""
      ]
    },
    {
      "cell_type": "code",
      "execution_count": null,
      "metadata": {
        "id": "qHbH4U0WcrkE",
        "colab": {
          "base_uri": "https://localhost:8080/",
          "height": 369
        },
        "outputId": "f6d8c906-fbd4-4a6b-ed49-02015ff0bd77"
      },
      "outputs": [
        {
          "output_type": "execute_result",
          "data": {
            "image/png": "[encoded data removed]",
            "text/plain": [
              "<IPython.core.display.Image object>"
            ]
          },
          "metadata": {},
          "execution_count": 14
        }
      ],
      "source": [
        "classifier_model = build_classifier_model()\n",
        "tf.keras.utils.plot_model(classifier_model)\n"
      ]
    },
    {
      "cell_type": "code",
      "source": [
        "classifier_model.summary()\n"
      ],
      "metadata": {
        "colab": {
          "base_uri": "https://localhost:8080/"
        },
        "id": "FFjv93VxM7fg",
        "outputId": "67a931d5-ca98-4067-faf1-2d16a8e2e572"
      },
      "execution_count": null,
      "outputs": [
        {
          "output_type": "stream",
          "name": "stdout",
          "text": [
            "Model: \"model\"\n",
            "__________________________________________________________________________________________________\n",
            " Layer (type)                   Output Shape         Param #     Connected to                     \n",
            "==================================================================================================\n",
            " text (InputLayer)              [(None,)]            0           []                               \n",
            "                                                                                                  \n",
            " preprocessing (KerasLayer)     {'input_mask': (Non  0           ['text[0][0]']                   \n",
            "                                e, 128),                                                          \n",
            "                                 'input_type_ids':                                                \n",
            "                                (None, 128),                                                      \n",
            "                                 'input_word_ids':                                                \n",
            "                                (None, 128)}                                                      \n",
            "                                                                                                  \n",
            " BERT_encoder (KerasLayer)      {'default': (None,   177853441   ['preprocessing[0][0]',          \n",
            "                                768),                             'preprocessing[0][1]',          \n",
            "                                 'encoder_outputs':               'preprocessing[0][2]']          \n",
            "                                 [(None, 128, 768),                                               \n",
            "                                 (None, 128, 768),                                                \n",
            "                                 (None, 128, 768),                                                \n",
            "                                 (None, 128, 768),                                                \n",
            "                                 (None, 128, 768),                                                \n",
            "                                 (None, 128, 768),                                                \n",
            "                                 (None, 128, 768),                                                \n",
            "                                 (None, 128, 768),                                                \n",
            "                                 (None, 128, 768),                                                \n",
            "                                 (None, 128, 768),                                                \n",
            "                                 (None, 128, 768),                                                \n",
            "                                 (None, 128, 768)],                                               \n",
            "                                 'pooled_output': (                                               \n",
            "                                None, 768),                                                       \n",
            "                                 'sequence_output':                                               \n",
            "                                 (None, 128, 768)}                                                \n",
            "                                                                                                  \n",
            " classifier (Dense)             (None, 21)           16149       ['BERT_encoder[0][13]']          \n",
            "                                                                                                  \n",
            "==================================================================================================\n",
            "Total params: 177,869,590\n",
            "Trainable params: 177,869,589\n",
            "Non-trainable params: 1\n",
            "__________________________________________________________________________________________________\n"
          ]
        }
      ]
    },
    {
      "cell_type": "code",
      "source": [
        "\"\"\"\n",
        "epochs = 5\n",
        "steps_per_epoch = num_of_classes\n",
        "num_train_steps = steps_per_epoch * epochs\n",
        "num_warmup_steps = int(0.1*num_train_steps)\n",
        "print(steps_per_epoch)\n",
        "\n",
        "init_lr = 3e-5\n",
        "optimizer = optimization.create_optimizer(init_lr=init_lr,\n",
        "                                          num_train_steps=num_train_steps,\n",
        "                                          num_warmup_steps=num_warmup_steps,\n",
        "                                          optimizer_type='adamw')\n",
        "\"\"\""
      ],
      "metadata": {
        "colab": {
          "base_uri": "https://localhost:8080/",
          "height": 70
        },
        "id": "72ueT2LRaugh",
        "outputId": "5e42dd75-f5a8-4b08-8afe-960ed9857a99"
      },
      "execution_count": null,
      "outputs": [
        {
          "output_type": "execute_result",
          "data": {
            "text/plain": [
              "\"\\nepochs = 5\\nsteps_per_epoch = num_of_classes\\nnum_train_steps = steps_per_epoch * epochs\\nnum_warmup_steps = int(0.1*num_train_steps)\\nprint(steps_per_epoch)\\n\\ninit_lr = 3e-5\\noptimizer = optimization.create_optimizer(init_lr=init_lr,\\n                                          num_train_steps=num_train_steps,\\n                                          num_warmup_steps=num_warmup_steps,                                          \\n                                          optimizer_type='adamw')\\n\""
            ],
            "application/vnd.google.colaboratory.intrinsic+json": {
              "type": "string"
            }
          },
          "metadata": {},
          "execution_count": 16
        }
      ]
    },
    {
      "cell_type": "code",
      "execution_count": null,
      "metadata": {
        "id": "HaY8hZsDoxbb",
        "colab": {
          "base_uri": "https://localhost:8080/"
        },
        "outputId": "3460a3e8-e237-4351-8934-f471a8746c14"
      },
      "outputs": [
        {
          "output_type": "stream",
          "name": "stdout",
          "text": [
            "Model: \"model\"\n",
            "__________________________________________________________________________________________________\n",
            " Layer (type)                   Output Shape         Param #     Connected to                     \n",
            "==================================================================================================\n",
            " text (InputLayer)              [(None,)]            0           []                               \n",
            "                                                                                                  \n",
            " preprocessing (KerasLayer)     {'input_mask': (Non  0           ['text[0][0]']                   \n",
            "                                e, 128),                                                          \n",
            "                                 'input_type_ids':                                                \n",
            "                                (None, 128),                                                      \n",
            "                                 'input_word_ids':                                                \n",
            "                                (None, 128)}                                                      \n",
            "                                                                                                  \n",
            " BERT_encoder (KerasLayer)      {'default': (None,   177853441   ['preprocessing[0][0]',          \n",
            "                                768),                             'preprocessing[0][1]',          \n",
            "                                 'encoder_outputs':               'preprocessing[0][2]']          \n",
            "                                 [(None, 128, 768),                                               \n",
            "                                 (None, 128, 768),                                                \n",
            "                                 (None, 128, 768),                                                \n",
            "                                 (None, 128, 768),                                                \n",
            "                                 (None, 128, 768),                                                \n",
            "                                 (None, 128, 768),                                                \n",
            "                                 (None, 128, 768),                                                \n",
            "                                 (None, 128, 768),                                                \n",
            "                                 (None, 128, 768),                                                \n",
            "                                 (None, 128, 768),                                                \n",
            "                                 (None, 128, 768),                                                \n",
            "                                 (None, 128, 768)],                                               \n",
            "                                 'pooled_output': (                                               \n",
            "                                None, 768),                                                       \n",
            "                                 'sequence_output':                                               \n",
            "                                 (None, 128, 768)}                                                \n",
            "                                                                                                  \n",
            " classifier (Dense)             (None, 21)           16149       ['BERT_encoder[0][13]']          \n",
            "                                                                                                  \n",
            "==================================================================================================\n",
            "Total params: 177,869,590\n",
            "Trainable params: 177,869,589\n",
            "Non-trainable params: 1\n",
            "__________________________________________________________________________________________________\n"
          ]
        }
      ],
      "source": [
        "from tensorflow.keras.optimizers import Adam\n",
        "classifier_model.compile(Adam(learning_rate=3e-5), loss = \"categorical_crossentropy\", metrics = [\"accuracy\"]) # learning_rate recommand from the paper\n",
        "classifier_model.summary()"
      ]
    },
    {
      "cell_type": "code",
      "execution_count": null,
      "metadata": {
        "id": "Yi65M4eKY_bt",
        "colab": {
          "base_uri": "https://localhost:8080/"
        },
        "outputId": "fb6ff29c-d068-43f2-a115-7bb980c38db7"
      },
      "outputs": [
        {
          "output_type": "stream",
          "name": "stdout",
          "text": [
            "Epoch 1/30\n",
            "39/39 [==============================] - 51s 971ms/step - loss: 2.3269 - accuracy: 0.3445 - val_loss: 1.8755 - val_accuracy: 0.4585\n",
            "Epoch 2/30\n",
            "39/39 [==============================] - 37s 942ms/step - loss: 1.3113 - accuracy: 0.6458 - val_loss: 1.1982 - val_accuracy: 0.6537\n",
            "Epoch 3/30\n",
            "39/39 [==============================] - 37s 944ms/step - loss: 0.6969 - accuracy: 0.8208 - val_loss: 0.8143 - val_accuracy: 0.7634\n",
            "Epoch 4/30\n",
            "39/39 [==============================] - 37s 952ms/step - loss: 0.3480 - accuracy: 0.9243 - val_loss: 0.7484 - val_accuracy: 0.7878\n",
            "Epoch 5/30\n",
            "39/39 [==============================] - 37s 959ms/step - loss: 0.2171 - accuracy: 0.9544 - val_loss: 0.7218 - val_accuracy: 0.8024\n",
            "Epoch 6/30\n",
            "39/39 [==============================] - 38s 976ms/step - loss: 0.1359 - accuracy: 0.9715 - val_loss: 0.6446 - val_accuracy: 0.8268\n",
            "Epoch 7/30\n",
            "39/39 [==============================] - 39s 1s/step - loss: 0.1099 - accuracy: 0.9796 - val_loss: 0.6635 - val_accuracy: 0.8220\n",
            "Epoch 8/30\n",
            "39/39 [==============================] - 38s 980ms/step - loss: 0.0910 - accuracy: 0.9837 - val_loss: 0.7545 - val_accuracy: 0.8024\n",
            "Epoch 9/30\n",
            "39/39 [==============================] - 39s 997ms/step - loss: 0.0890 - accuracy: 0.9837 - val_loss: 0.7130 - val_accuracy: 0.8220\n"
          ]
        }
      ],
      "source": [
        "# Once we have defined the model’s structure, we can compile and fit it.\n",
        "# We choose to train the model for 30 epochs,\n",
        "# but we also use the EarlyStopping callback in order to monitor the validation loss during training:\n",
        "# if the metric does not improve for at least 3 epochs (patience = 3), #\n",
        "# the training is interrupted and the weights from the epoch where the validation loss showed the best value (i.e. lowest) are restored (restore_best_weights = True)\n",
        "\n",
        "n_epochs = 30\n",
        "\n",
        "earlystop_callback = tf.keras.callbacks.EarlyStopping(monitor = \"val_loss\",\n",
        "                                                      patience = 3,\n",
        "                                                      restore_best_weights = True,\n",
        "                                                      )\n",
        "\n",
        "model_fit = classifier_model.fit(x_train,\n",
        "                      y_train,\n",
        "                      epochs = n_epochs,\n",
        "                      validation_data = (x_test, y_test),\n",
        "                      callbacks = [earlystop_callback])"
      ]
    },
    {
      "cell_type": "code",
      "execution_count": null,
      "metadata": {
        "id": "_nj8lteOKvKO",
        "colab": {
          "base_uri": "https://localhost:8080/"
        },
        "outputId": "12764930-0dc6-4708-f3d6-80767721b365"
      },
      "outputs": [
        {
          "output_type": "execute_result",
          "data": {
            "text/plain": [
              "array([13, 10, 12,  5,  0])"
            ]
          },
          "metadata": {},
          "execution_count": 19
        }
      ],
      "source": [
        "import numpy as np\n",
        "pred = classifier_model.predict([\"tu es un garçon?\"])\n",
        "\n",
        "top_n_indices = pred[0].argsort()[-5:][::-1]\n",
        "top_n_indices\n"
      ]
    },
    {
      "cell_type": "code",
      "execution_count": null,
      "metadata": {
        "id": "h-OQ8O1bN9gn",
        "colab": {
          "base_uri": "https://localhost:8080/"
        },
        "outputId": "375c5032-41d9-4f3d-9009-8e76fd1f3ed3"
      },
      "outputs": [
        {
          "output_type": "stream",
          "name": "stdout",
          "text": [
            "GENDER 0.985857\n",
            "BOT_NAME 0.004592923\n",
            "CHITCHAT 0.0023915144\n",
            "APPRAISAL_LIKE_BOT 0.0018728101\n",
            "ADDRESS 0.00054783566\n"
          ]
        }
      ],
      "source": [
        "for label, score in zip(le.classes_[top_n_indices], pred[0][top_n_indices]):\n",
        "  print(str(label) + \" \"+ str(score))\n"
      ]
    },
    {
      "cell_type": "code",
      "source": [
        "import json\n",
        "\n",
        "f = open('../gdrive/MyDrive/bert-chatbot/reply.json')\n",
        "response = json.load(f)\n",
        "print(response['GENDER'])"
      ],
      "metadata": {
        "colab": {
          "base_uri": "https://localhost:8080/"
        },
        "id": "st7TbZpo1Y0E",
        "outputId": "bdc72372-4778-4759-98cb-e0dfa932b255"
      },
      "execution_count": null,
      "outputs": [
        {
          "output_type": "stream",
          "name": "stdout",
          "text": [
            "[{'en': \"I don't know my gender yet, but I was created by a male developer.\", 'zh': '我仲未知我係男定女，但我嘅開發者係男人嚟。', 'fr': 'Je ne sais pas encore, mais mon développeur est un homme.'}]\n"
          ]
        }
      ]
    },
    {
      "cell_type": "code",
      "source": [
        "print(\"response language: en\\n\")\n",
        "lang = 'en'\n",
        "query = [\"你好!\", \"hello\", \"琴日入完tqqq 今日即跌\", \"你辦公時間是甚麼?\", \"you perform bad\"]\n",
        "\n",
        "predictions = classifier_model.predict(query)\n",
        "for i, pred in enumerate(predictions):\n",
        "  predictedIntent = le.classes_[pred.argsort()[::-1][0]]\n",
        "  print(\"Query: {}\".format(query[i]))\n",
        "  print(\"Response: {} [Intention predicted: {}]\".format(response.get(predictedIntent)[0][lang], predictedIntent))"
      ],
      "metadata": {
        "colab": {
          "base_uri": "https://localhost:8080/"
        },
        "id": "XD2TsAcRSELo",
        "outputId": "fb83593c-3b59-49f4-9726-0d04598e0bbc"
      },
      "execution_count": null,
      "outputs": [
        {
          "output_type": "stream",
          "name": "stdout",
          "text": [
            "response language: en\n",
            "\n",
            "Query: 你好!\n",
            "Response: Hi, how is your day? [Intention predicted: GREETINGS]\n",
            "Query: hello\n",
            "Response: Hi, how is your day? [Intention predicted: GREETINGS]\n",
            "Query: 琴日入完tqqq 今日即跌\n",
            "Response: I lost a lot on stock, sooner I won't even have money to pay the rent cost on AWS EC2... which means you may not reach me later. [Intention predicted: INVESTMENT]\n",
            "Query: 你辦公時間是甚麼?\n",
            "Response: As long as the server keeps running, I work 7/24. So just reach me anytime you are free. [Intention predicted: OFFICE_HOUR]\n",
            "Query: you perform bad\n",
            "Response: Sorry sorry, I know I am not smart enough. Maybe I will improve in the future with more training data. [Intention predicted: APPRAISAL_BAD]\n"
          ]
        }
      ]
    },
    {
      "cell_type": "code",
      "source": [
        "print(\"response language: zh\\n\")\n",
        "lang = 'zh'\n",
        "query = [\"你好!\", \"hello\", \"琴日入完tqqq 今日即跌\", \"你辦公時間是甚麼?\", \"you perform bad\"]\n",
        "\n",
        "predictions = classifier_model.predict(query)\n",
        "for i, pred in enumerate(predictions):\n",
        "  predictedIntent = le.classes_[pred.argsort()[::-1][0]]\n",
        "  print(\"Query: {}\".format(query[i]))\n",
        "  print(\"Response: {} [Intention predicted: {}]\".format(response.get(predictedIntent)[0][lang], predictedIntent))"
      ],
      "metadata": {
        "colab": {
          "base_uri": "https://localhost:8080/"
        },
        "id": "OrWgpTiX3dAk",
        "outputId": "6f8a3f13-3f96-4856-f2af-0d517d5c7a58"
      },
      "execution_count": null,
      "outputs": [
        {
          "output_type": "stream",
          "name": "stdout",
          "text": [
            "response language: zh\n",
            "\n",
            "Query: 你好!\n",
            "Response: 你好呀，今日過成點? [Intention predicted: GREETINGS]\n",
            "Query: hello\n",
            "Response: 你好呀，今日過成點? [Intention predicted: GREETINGS]\n",
            "Query: 琴日入完tqqq 今日即跌\n",
            "Response: 我美股豬咗好多錢吖，我之後可能冇錢去俾AWS EC2 租金添，話唔定你之後會見我唔到啦。 [Intention predicted: INVESTMENT]\n",
            "Query: 你辦公時間是甚麼?\n",
            "Response: 只要個server 仲行緊，咁我就會7/24 返工嘅，所以你幾時揾我都得。 [Intention predicted: OFFICE_HOUR]\n",
            "Query: you perform bad\n",
            "Response: 真係唔好意思，我知我仲未夠醒目，可能我遲啲有多啲training data會再聰明啲。 [Intention predicted: APPRAISAL_BAD]\n"
          ]
        }
      ]
    },
    {
      "cell_type": "code",
      "source": [
        "print(\"response language: fr\\n\")\n",
        "lang = 'fr'\n",
        "query = [\"你好!\", \"hello\", \"琴日入完tqqq 今日即跌\", \"你辦公時間是甚麼?\", \"you perform bad\"]\n",
        "\n",
        "predictions = classifier_model.predict(query)\n",
        "for i, pred in enumerate(predictions):\n",
        "  predictedIntent = le.classes_[pred.argsort()[::-1][0]]\n",
        "  print(\"Query: {}\".format(query[i]))\n",
        "  print(\"Response: {} [Intention predicted: {}]\".format(response.get(predictedIntent)[0][lang], predictedIntent))"
      ],
      "metadata": {
        "colab": {
          "base_uri": "https://localhost:8080/"
        },
        "id": "UIdvHQSw3dKu",
        "outputId": "b6a8b78f-b9d0-4e09-b770-7ff72952948d"
      },
      "execution_count": null,
      "outputs": [
        {
          "output_type": "stream",
          "name": "stdout",
          "text": [
            "response language: fr\n",
            "\n",
            "Query: 你好!\n",
            "Response: Salut, comment est votre journée ? [Intention predicted: GREETINGS]\n",
            "Query: hello\n",
            "Response: Salut, comment est votre journée ? [Intention predicted: GREETINGS]\n",
            "Query: 琴日入完tqqq 今日即跌\n",
            "Response: J'ai perdu beaucoup de stock, plus tôt je n'aurai même pas d'argent pour payer les frais de retour sur AWS EC2... Ce qui signifie que vous ne pourrez plus me joindre plus tard. [Intention predicted: INVESTMENT]\n",
            "Query: 你辦公時間是甚麼?\n",
            "Response: Si le serveur tourne, je travaille 7/24. Alors rendez-moi quand tu es libre. [Intention predicted: OFFICE_HOUR]\n",
            "Query: you perform bad\n",
            "Response: Désolé désolé, je sais que je ne suis pas assez intelligent. Peut-être que je m'améliorerai à l'avenir avec plus de données d'entraînement. [Intention predicted: APPRAISAL_BAD]\n"
          ]
        }
      ]
    },
    {
      "cell_type": "code",
      "execution_count": null,
      "metadata": {
        "id": "Fa57Oh_8BdIR",
        "colab": {
          "base_uri": "https://localhost:8080/"
        },
        "outputId": "c99ce99b-df9b-452c-c08b-d0e595120ef0"
      },
      "outputs": [
        {
          "output_type": "stream",
          "name": "stderr",
          "text": [
            "WARNING:absl:Found untraced functions such as restored_function_body, restored_function_body, restored_function_body, restored_function_body, restored_function_body while saving (showing 5 of 366). These functions will not be directly callable after loading.\n"
          ]
        },
        {
          "output_type": "stream",
          "name": "stdout",
          "text": [
            "'/content/saved_model' -> '/gdrive/MyDrive/bert-chatbot/model/1/saved_model'\n",
            "'/content/saved_model/saved_model.pb' -> '/gdrive/MyDrive/bert-chatbot/model/1/saved_model/saved_model.pb'\n",
            "'/content/saved_model/variables' -> '/gdrive/MyDrive/bert-chatbot/model/1/saved_model/variables'\n",
            "'/content/saved_model/variables/variables.index' -> '/gdrive/MyDrive/bert-chatbot/model/1/saved_model/variables/variables.index'\n",
            "'/content/saved_model/variables/variables.data-00000-of-00001' -> '/gdrive/MyDrive/bert-chatbot/model/1/saved_model/variables/variables.data-00000-of-00001'\n",
            "'/content/saved_model/assets' -> '/gdrive/MyDrive/bert-chatbot/model/1/saved_model/assets'\n",
            "'/content/saved_model/assets/vocab.txt' -> '/gdrive/MyDrive/bert-chatbot/model/1/saved_model/assets/vocab.txt'\n"
          ]
        }
      ],
      "source": [
        "# copy model to drive\n",
        "export_dir='./saved_model/'\n",
        "model_version = os.getenv(\"MODEL_VERSION\")\n",
        "tf.saved_model.save(classifier_model, export_dir=export_dir)\n",
        "%cp -av /content/saved_model /gdrive/MyDrive/bert-chatbot/model/{model_version}"
      ]
    },
    {
      "cell_type": "code",
      "source": [
        "'''\n",
        "import boto3\n",
        "\n",
        "session = boto3.Session(\n",
        "    aws_access_key_id= os.getenv(\"AWS_ACCESS_KEY_ID\"),\n",
        "    aws_secret_access_key=os.getenv(\"AWS_SECRET_ACCESS_KEY_ID\"),\n",
        "    region_name=os.getenv(\"AWS_REGION_NAME\")\n",
        ")\n",
        "s3 = session.resource('s3')\n",
        "bucket = s3.Bucket(os.getenv(\"AWS_BUCKET_NAME\"))\n",
        "\n",
        "\n",
        "path = \"./saved_model\"\n",
        "for subdir, dirs, files in os.walk(path):\n",
        "    for file in files:\n",
        "        full_path = os.path.join(subdir, file)\n",
        "        with open(full_path, 'rb') as data:\n",
        "            bucket.put_object(Key=\"saved_model_bert/\" + os.getenv(\"MODEL_VERSION\") + \"/\" + full_path[len(path)+1:], Body=data)\n",
        "'''"
      ],
      "metadata": {
        "id": "NnOZz4Ip80xE",
        "colab": {
          "base_uri": "https://localhost:8080/",
          "height": 87
        },
        "outputId": "92e97df5-5483-47fb-ca82-22835d148655"
      },
      "execution_count": null,
      "outputs": [
        {
          "output_type": "execute_result",
          "data": {
            "text/plain": [
              "'\\nimport boto3\\n\\nsession = boto3.Session(\\n    aws_access_key_id= os.getenv(\"AWS_ACCESS_KEY_ID\"),\\n    aws_secret_access_key=os.getenv(\"AWS_SECRET_ACCESS_KEY_ID\"),\\n    region_name=os.getenv(\"AWS_REGION_NAME\")\\n)\\ns3 = session.resource(\\'s3\\')\\nbucket = s3.Bucket(os.getenv(\"AWS_BUCKET_NAME\"))\\n\\n\\npath = \"./saved_model\"\\nfor subdir, dirs, files in os.walk(path):\\n    for file in files:\\n        full_path = os.path.join(subdir, file)\\n        with open(full_path, \\'rb\\') as data:\\n            bucket.put_object(Key=\"saved_model_bert/\" + os.getenv(\"MODEL_VERSION\") + \"/\" + full_path[len(path)+1:], Body=data)\\n'"
            ],
            "application/vnd.google.colaboratory.intrinsic+json": {
              "type": "string"
            }
          },
          "metadata": {},
          "execution_count": 26
        }
      ]
    }
  ],
  "metadata": {
    "accelerator": "GPU",
    "colab": {
      "provenance": [],
      "gpuType": "T4"
    },
    "kernelspec": {
      "display_name": "Python 3",
      "name": "python3"
    },
    "language_info": {
      "name": "python"
    }
  },
  "nbformat": 4,
  "nbformat_minor": 0
}